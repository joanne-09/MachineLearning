{
 "nbformat": 4,
 "nbformat_minor": 0,
 "metadata": {
  "colab": {
   "provenance": []
  },
  "kernelspec": {
   "name": "python3",
   "display_name": "Python 3 (ipykernel)",
   "language": "python"
  },
  "language_info": {
   "name": "python"
  }
 },
 "cells": [
  {
   "cell_type": "markdown",
   "source": [
    "Mount Google Drive (optional)"
   ],
   "metadata": {
    "id": "1poT-tpUWgo4"
   }
  },
  {
   "cell_type": "code",
   "source": [
    "# from google.colab import drive\n",
    "# drive.mount('/content/drive')"
   ],
   "metadata": {
    "id": "UxG3aEmhWiV4",
    "ExecuteTime": {
     "end_time": "2024-10-11T15:14:33.567017Z",
     "start_time": "2024-10-11T15:14:33.561417Z"
    }
   },
   "outputs": [],
   "execution_count": 37
  },
  {
   "cell_type": "markdown",
   "source": [
    "# **Lab 2 : Decision Tree and Random Forest**\n",
    "In *lab 2*, you need to finish :\n",
    "\n",
    "1. Basic Part :\n",
    "  Implement a Decision Tree model and predict whether patients in the validation set survived.\n",
    "\n",
    "  > * Section 1: Function Implementation and Testing\n",
    "  > * Section 2: Building the Decision Tree Model\n",
    "\n",
    "\n",
    "2. Advanced Part : Build a **Random Forest** model to make predictions\n"
   ],
   "metadata": {
    "id": "NHYT0wwCWjlN"
   }
  },
  {
   "cell_type": "markdown",
   "source": [
    "❗ **Important** ❗\n",
    "Please follow the template. Follow the instructions.\n",
    "**Do not** change the code outside this code bracket if you see one.\n",
    "```\n",
    "### START CODE HERE ###\n",
    "...\n",
    "### END CODE HERE ###\n",
    "```\n",
    "\n"
   ],
   "metadata": {
    "id": "HtkN1RNQKznC"
   }
  },
  {
   "cell_type": "markdown",
   "source": [
    "We'll be using **pandas** frequently in this template, so we've provided a link to help you get familiar with its usage: https://pandas.pydata.org/docs/user_guide/10min.html\n"
   ],
   "metadata": {
    "id": "ViMa9pPp0L8U"
   }
  },
  {
   "cell_type": "markdown",
   "source": [
    "## Import Packages\n",
    "\n",
    "> Note : You **cannot** import any other packages in both basic and advanced part\n"
   ],
   "metadata": {
    "id": "tBzqwVcaWqll"
   }
  },
  {
   "cell_type": "code",
   "source": [
    "from pyexpat import features\n",
    "\n",
    "import numpy as np\n",
    "import pandas as pd\n",
    "import math\n",
    "import random\n",
    "from numpy import sqrt\n",
    "from sklearn.metrics import f1_score\n",
    "from sklearn.metrics import accuracy_score"
   ],
   "metadata": {
    "id": "eb6ccSWDWrTd",
    "ExecuteTime": {
     "end_time": "2024-10-11T15:14:33.591364Z",
     "start_time": "2024-10-11T15:14:33.579083Z"
    }
   },
   "outputs": [],
   "execution_count": 38
  },
  {
   "cell_type": "markdown",
   "source": [
    "# **Basic Part** (30%)\n",
    "\n",
    "## Section 1: Function Implementation and Testing\n",
    "You will implement five functions that are necessary for building a decision tree model. After implementing each function, you must run it with the given input variables to verify its correctness. Save the results of each function to a CSV file for submission.\n",
    "> * Step 1: Calculate the Entropy\n",
    "> * Step 2: Calculate the Information Gain\n",
    "> * Step 3: Find the Best Split\n",
    "> * Step 4: Split the data into two branches\n",
    "> * Step 5: Build the decision tree\n",
    "> * Step 6: Save answers\n",
    "\n",
    "\n",
    "## Section 2: Build a Decision Tree Model and make Predictions\n",
    "After implementing the functions, you will use them to build a decision tree model and make predictions. Follow the steps below to train your model and evaluate its performance.\n",
    "> * Step 1: Split the data into training set and validation set\n",
    "> * Step 2: Train a decision tree model with the training set\n",
    "> * Step 3: Predict the cases in the validation set by using the model trained in Step 2\n",
    "> * Step 4: Calculate the f1-score of your predictions in Step 3\n",
    "> * Step 5: Save answer"
   ],
   "metadata": {
    "id": "fHwMS_7dWtwj"
   }
  },
  {
   "cell_type": "markdown",
   "source": [
    "## Load the input data\n",
    "Let's load the input file **lab2_basic_input.csv**.\n",
    "\n",
    "> Note: you will use this input data in both section 1 and section 2"
   ],
   "metadata": {
    "id": "jeEPi9tfWzx_"
   }
  },
  {
   "cell_type": "code",
   "source": [
    "input_data = pd.read_csv('lab2_basic_input.csv')\n",
    "input_data"
   ],
   "metadata": {
    "id": "TIOE-YsHW3lA",
    "ExecuteTime": {
     "end_time": "2024-10-11T15:14:33.670818Z",
     "start_time": "2024-10-11T15:14:33.650565Z"
    }
   },
   "outputs": [
    {
     "data": {
      "text/plain": [
       "     age        bmi  gender  height  weight  pre_icu_los_days  glucose_apache   \n",
       "0   28.0  26.596278       1   173.0   79.60          0.000000           199.0  \\\n",
       "1   51.0  36.267895       0   180.3  117.90          0.141667            88.0   \n",
       "2   81.0  24.196007       1   162.0   63.50          1.988194           285.0   \n",
       "3   83.0  21.105377       1   162.6   55.80          0.211111           189.0   \n",
       "4   76.0  20.470093       0   167.6   57.50         14.493056           278.0   \n",
       "5   60.0  46.111111       0   180.0  149.40          0.027778           186.0   \n",
       "6   70.0  17.361111       1   168.0   49.00          0.156944           181.0   \n",
       "7   79.0  33.274623       0   165.1   90.70          0.004861            56.0   \n",
       "8   81.0  30.462306       0   177.8   96.30          0.002083           113.0   \n",
       "9   54.0  25.843929       0   177.8   81.70          0.007639           112.0   \n",
       "10  54.0  35.008738       1   154.9   84.00          0.702083            89.0   \n",
       "11  55.0  28.697484       0   182.9   96.00          0.048611            88.0   \n",
       "12  65.0  15.741828       1   157.4   39.00          0.099306            92.0   \n",
       "13  68.0  27.771653       1   165.1   75.70          0.015278           211.0   \n",
       "14  81.0  21.575208       1   157.5   53.52          3.043056            90.0   \n",
       "15  67.0  30.506023       0   182.9  102.05          0.350694           107.0   \n",
       "16  77.0  25.827736       0   182.9   86.40          0.712500            97.0   \n",
       "17  69.0  23.397612       1   165.0   63.70          0.035417           224.0   \n",
       "18  77.0  34.532872       1   170.0   99.80          0.035417           250.0   \n",
       "19  64.0  27.394313       1   167.0   76.40          0.011111           373.0   \n",
       "20  51.0  28.219692       0   185.4   97.00          0.537500            90.0   \n",
       "21  62.0  23.640816       0   175.0   72.40          6.063889           202.0   \n",
       "22  54.0  34.710158       1   167.6   97.50          0.044444           205.0   \n",
       "23  74.0  33.651380       0   171.0   98.40          1.059722           184.0   \n",
       "24  52.0  20.402893       0   176.0   63.20         13.668750           105.0   \n",
       "25  70.0  28.686787       1   170.2   83.10          0.167361           201.0   \n",
       "26  78.0  21.250000       1   160.0   54.40          0.271528           201.0   \n",
       "27  86.0  19.188698       0   185.6   66.10          0.786111           111.0   \n",
       "28  58.0  23.295905       1   165.1   63.50          0.001389           264.0   \n",
       "29  69.0  51.288336       1   162.6  135.60          7.174306           158.0   \n",
       "30  78.0  30.524099       0   181.0  100.00          0.173611           230.0   \n",
       "31  46.0  47.477519       1   162.0  124.60          0.000694           598.7   \n",
       "32  63.0  28.138070       1   157.5   69.80          0.809028           105.0   \n",
       "33  32.0  20.012958       0   175.3   61.50          0.004861           573.0   \n",
       "34  76.0  31.265432       0   180.0  101.30          0.077778           102.0   \n",
       "35  72.0  21.165166       1   152.0   48.90          0.268056           103.0   \n",
       "36  43.0  31.294766       1   165.0   85.20          0.083333            93.0   \n",
       "37  57.0  31.757926       1   154.9   76.20          2.721528           181.0   \n",
       "38  31.0  37.300976       1   154.9   89.50          0.423611            75.0   \n",
       "39  81.0  20.989855       0   167.6   58.96          0.131250           212.0   \n",
       "\n",
       "    heart_rate_apache  resprate_apache  sodium_apache  hospital_death  \n",
       "0                52.0             29.0          140.0               0  \n",
       "1               104.0             31.0          143.0               0  \n",
       "2               178.0              4.0          138.0               1  \n",
       "3               115.0             18.0          158.0               0  \n",
       "4                93.0              8.0          134.0               1  \n",
       "5               146.0             34.0          139.0               1  \n",
       "6               111.0             12.0          158.0               1  \n",
       "7                37.0             44.0          141.0               0  \n",
       "8                62.0              4.0          142.0               0  \n",
       "9               110.0             24.0          136.0               1  \n",
       "10              105.0             37.0          144.0               0  \n",
       "11              115.0             33.0          138.0               0  \n",
       "12               58.0              8.0          121.0               0  \n",
       "13              104.0              4.0          128.0               1  \n",
       "14               99.0              8.0          136.0               0  \n",
       "15              105.0             11.0          149.0               1  \n",
       "16               92.0             18.0          139.0               0  \n",
       "17               90.0             37.0          137.0               1  \n",
       "18              116.0             11.0          141.0               1  \n",
       "19              141.0             31.0          139.0               1  \n",
       "20              146.0             45.0          132.0               1  \n",
       "21               52.0             12.0          129.0               1  \n",
       "22              110.0             52.0          137.0               0  \n",
       "23              103.0              4.0          136.0               0  \n",
       "24              133.0             44.0          135.0               1  \n",
       "25               95.0             25.0          139.0               1  \n",
       "26              134.0             60.0          130.0               0  \n",
       "27              152.0             30.0          137.0               1  \n",
       "28              178.0             40.0          139.0               1  \n",
       "29              154.0             45.0          138.0               1  \n",
       "30               98.0              9.0          132.0               1  \n",
       "31               39.0             12.0          130.0               1  \n",
       "32               99.0              6.0          138.0               0  \n",
       "33              107.0              7.0          140.0               0  \n",
       "34              124.0              6.0          150.0               1  \n",
       "35              130.0             31.0          147.0               1  \n",
       "36              122.0             10.0          144.0               0  \n",
       "37              137.0             47.0          141.0               1  \n",
       "38              116.0             42.0          139.0               0  \n",
       "39              138.0             12.0          154.0               0  "
      ],
      "text/html": [
       "<div>\n",
       "<style scoped>\n",
       "    .dataframe tbody tr th:only-of-type {\n",
       "        vertical-align: middle;\n",
       "    }\n",
       "\n",
       "    .dataframe tbody tr th {\n",
       "        vertical-align: top;\n",
       "    }\n",
       "\n",
       "    .dataframe thead th {\n",
       "        text-align: right;\n",
       "    }\n",
       "</style>\n",
       "<table border=\"1\" class=\"dataframe\">\n",
       "  <thead>\n",
       "    <tr style=\"text-align: right;\">\n",
       "      <th></th>\n",
       "      <th>age</th>\n",
       "      <th>bmi</th>\n",
       "      <th>gender</th>\n",
       "      <th>height</th>\n",
       "      <th>weight</th>\n",
       "      <th>pre_icu_los_days</th>\n",
       "      <th>glucose_apache</th>\n",
       "      <th>heart_rate_apache</th>\n",
       "      <th>resprate_apache</th>\n",
       "      <th>sodium_apache</th>\n",
       "      <th>hospital_death</th>\n",
       "    </tr>\n",
       "  </thead>\n",
       "  <tbody>\n",
       "    <tr>\n",
       "      <th>0</th>\n",
       "      <td>28.0</td>\n",
       "      <td>26.596278</td>\n",
       "      <td>1</td>\n",
       "      <td>173.0</td>\n",
       "      <td>79.60</td>\n",
       "      <td>0.000000</td>\n",
       "      <td>199.0</td>\n",
       "      <td>52.0</td>\n",
       "      <td>29.0</td>\n",
       "      <td>140.0</td>\n",
       "      <td>0</td>\n",
       "    </tr>\n",
       "    <tr>\n",
       "      <th>1</th>\n",
       "      <td>51.0</td>\n",
       "      <td>36.267895</td>\n",
       "      <td>0</td>\n",
       "      <td>180.3</td>\n",
       "      <td>117.90</td>\n",
       "      <td>0.141667</td>\n",
       "      <td>88.0</td>\n",
       "      <td>104.0</td>\n",
       "      <td>31.0</td>\n",
       "      <td>143.0</td>\n",
       "      <td>0</td>\n",
       "    </tr>\n",
       "    <tr>\n",
       "      <th>2</th>\n",
       "      <td>81.0</td>\n",
       "      <td>24.196007</td>\n",
       "      <td>1</td>\n",
       "      <td>162.0</td>\n",
       "      <td>63.50</td>\n",
       "      <td>1.988194</td>\n",
       "      <td>285.0</td>\n",
       "      <td>178.0</td>\n",
       "      <td>4.0</td>\n",
       "      <td>138.0</td>\n",
       "      <td>1</td>\n",
       "    </tr>\n",
       "    <tr>\n",
       "      <th>3</th>\n",
       "      <td>83.0</td>\n",
       "      <td>21.105377</td>\n",
       "      <td>1</td>\n",
       "      <td>162.6</td>\n",
       "      <td>55.80</td>\n",
       "      <td>0.211111</td>\n",
       "      <td>189.0</td>\n",
       "      <td>115.0</td>\n",
       "      <td>18.0</td>\n",
       "      <td>158.0</td>\n",
       "      <td>0</td>\n",
       "    </tr>\n",
       "    <tr>\n",
       "      <th>4</th>\n",
       "      <td>76.0</td>\n",
       "      <td>20.470093</td>\n",
       "      <td>0</td>\n",
       "      <td>167.6</td>\n",
       "      <td>57.50</td>\n",
       "      <td>14.493056</td>\n",
       "      <td>278.0</td>\n",
       "      <td>93.0</td>\n",
       "      <td>8.0</td>\n",
       "      <td>134.0</td>\n",
       "      <td>1</td>\n",
       "    </tr>\n",
       "    <tr>\n",
       "      <th>5</th>\n",
       "      <td>60.0</td>\n",
       "      <td>46.111111</td>\n",
       "      <td>0</td>\n",
       "      <td>180.0</td>\n",
       "      <td>149.40</td>\n",
       "      <td>0.027778</td>\n",
       "      <td>186.0</td>\n",
       "      <td>146.0</td>\n",
       "      <td>34.0</td>\n",
       "      <td>139.0</td>\n",
       "      <td>1</td>\n",
       "    </tr>\n",
       "    <tr>\n",
       "      <th>6</th>\n",
       "      <td>70.0</td>\n",
       "      <td>17.361111</td>\n",
       "      <td>1</td>\n",
       "      <td>168.0</td>\n",
       "      <td>49.00</td>\n",
       "      <td>0.156944</td>\n",
       "      <td>181.0</td>\n",
       "      <td>111.0</td>\n",
       "      <td>12.0</td>\n",
       "      <td>158.0</td>\n",
       "      <td>1</td>\n",
       "    </tr>\n",
       "    <tr>\n",
       "      <th>7</th>\n",
       "      <td>79.0</td>\n",
       "      <td>33.274623</td>\n",
       "      <td>0</td>\n",
       "      <td>165.1</td>\n",
       "      <td>90.70</td>\n",
       "      <td>0.004861</td>\n",
       "      <td>56.0</td>\n",
       "      <td>37.0</td>\n",
       "      <td>44.0</td>\n",
       "      <td>141.0</td>\n",
       "      <td>0</td>\n",
       "    </tr>\n",
       "    <tr>\n",
       "      <th>8</th>\n",
       "      <td>81.0</td>\n",
       "      <td>30.462306</td>\n",
       "      <td>0</td>\n",
       "      <td>177.8</td>\n",
       "      <td>96.30</td>\n",
       "      <td>0.002083</td>\n",
       "      <td>113.0</td>\n",
       "      <td>62.0</td>\n",
       "      <td>4.0</td>\n",
       "      <td>142.0</td>\n",
       "      <td>0</td>\n",
       "    </tr>\n",
       "    <tr>\n",
       "      <th>9</th>\n",
       "      <td>54.0</td>\n",
       "      <td>25.843929</td>\n",
       "      <td>0</td>\n",
       "      <td>177.8</td>\n",
       "      <td>81.70</td>\n",
       "      <td>0.007639</td>\n",
       "      <td>112.0</td>\n",
       "      <td>110.0</td>\n",
       "      <td>24.0</td>\n",
       "      <td>136.0</td>\n",
       "      <td>1</td>\n",
       "    </tr>\n",
       "    <tr>\n",
       "      <th>10</th>\n",
       "      <td>54.0</td>\n",
       "      <td>35.008738</td>\n",
       "      <td>1</td>\n",
       "      <td>154.9</td>\n",
       "      <td>84.00</td>\n",
       "      <td>0.702083</td>\n",
       "      <td>89.0</td>\n",
       "      <td>105.0</td>\n",
       "      <td>37.0</td>\n",
       "      <td>144.0</td>\n",
       "      <td>0</td>\n",
       "    </tr>\n",
       "    <tr>\n",
       "      <th>11</th>\n",
       "      <td>55.0</td>\n",
       "      <td>28.697484</td>\n",
       "      <td>0</td>\n",
       "      <td>182.9</td>\n",
       "      <td>96.00</td>\n",
       "      <td>0.048611</td>\n",
       "      <td>88.0</td>\n",
       "      <td>115.0</td>\n",
       "      <td>33.0</td>\n",
       "      <td>138.0</td>\n",
       "      <td>0</td>\n",
       "    </tr>\n",
       "    <tr>\n",
       "      <th>12</th>\n",
       "      <td>65.0</td>\n",
       "      <td>15.741828</td>\n",
       "      <td>1</td>\n",
       "      <td>157.4</td>\n",
       "      <td>39.00</td>\n",
       "      <td>0.099306</td>\n",
       "      <td>92.0</td>\n",
       "      <td>58.0</td>\n",
       "      <td>8.0</td>\n",
       "      <td>121.0</td>\n",
       "      <td>0</td>\n",
       "    </tr>\n",
       "    <tr>\n",
       "      <th>13</th>\n",
       "      <td>68.0</td>\n",
       "      <td>27.771653</td>\n",
       "      <td>1</td>\n",
       "      <td>165.1</td>\n",
       "      <td>75.70</td>\n",
       "      <td>0.015278</td>\n",
       "      <td>211.0</td>\n",
       "      <td>104.0</td>\n",
       "      <td>4.0</td>\n",
       "      <td>128.0</td>\n",
       "      <td>1</td>\n",
       "    </tr>\n",
       "    <tr>\n",
       "      <th>14</th>\n",
       "      <td>81.0</td>\n",
       "      <td>21.575208</td>\n",
       "      <td>1</td>\n",
       "      <td>157.5</td>\n",
       "      <td>53.52</td>\n",
       "      <td>3.043056</td>\n",
       "      <td>90.0</td>\n",
       "      <td>99.0</td>\n",
       "      <td>8.0</td>\n",
       "      <td>136.0</td>\n",
       "      <td>0</td>\n",
       "    </tr>\n",
       "    <tr>\n",
       "      <th>15</th>\n",
       "      <td>67.0</td>\n",
       "      <td>30.506023</td>\n",
       "      <td>0</td>\n",
       "      <td>182.9</td>\n",
       "      <td>102.05</td>\n",
       "      <td>0.350694</td>\n",
       "      <td>107.0</td>\n",
       "      <td>105.0</td>\n",
       "      <td>11.0</td>\n",
       "      <td>149.0</td>\n",
       "      <td>1</td>\n",
       "    </tr>\n",
       "    <tr>\n",
       "      <th>16</th>\n",
       "      <td>77.0</td>\n",
       "      <td>25.827736</td>\n",
       "      <td>0</td>\n",
       "      <td>182.9</td>\n",
       "      <td>86.40</td>\n",
       "      <td>0.712500</td>\n",
       "      <td>97.0</td>\n",
       "      <td>92.0</td>\n",
       "      <td>18.0</td>\n",
       "      <td>139.0</td>\n",
       "      <td>0</td>\n",
       "    </tr>\n",
       "    <tr>\n",
       "      <th>17</th>\n",
       "      <td>69.0</td>\n",
       "      <td>23.397612</td>\n",
       "      <td>1</td>\n",
       "      <td>165.0</td>\n",
       "      <td>63.70</td>\n",
       "      <td>0.035417</td>\n",
       "      <td>224.0</td>\n",
       "      <td>90.0</td>\n",
       "      <td>37.0</td>\n",
       "      <td>137.0</td>\n",
       "      <td>1</td>\n",
       "    </tr>\n",
       "    <tr>\n",
       "      <th>18</th>\n",
       "      <td>77.0</td>\n",
       "      <td>34.532872</td>\n",
       "      <td>1</td>\n",
       "      <td>170.0</td>\n",
       "      <td>99.80</td>\n",
       "      <td>0.035417</td>\n",
       "      <td>250.0</td>\n",
       "      <td>116.0</td>\n",
       "      <td>11.0</td>\n",
       "      <td>141.0</td>\n",
       "      <td>1</td>\n",
       "    </tr>\n",
       "    <tr>\n",
       "      <th>19</th>\n",
       "      <td>64.0</td>\n",
       "      <td>27.394313</td>\n",
       "      <td>1</td>\n",
       "      <td>167.0</td>\n",
       "      <td>76.40</td>\n",
       "      <td>0.011111</td>\n",
       "      <td>373.0</td>\n",
       "      <td>141.0</td>\n",
       "      <td>31.0</td>\n",
       "      <td>139.0</td>\n",
       "      <td>1</td>\n",
       "    </tr>\n",
       "    <tr>\n",
       "      <th>20</th>\n",
       "      <td>51.0</td>\n",
       "      <td>28.219692</td>\n",
       "      <td>0</td>\n",
       "      <td>185.4</td>\n",
       "      <td>97.00</td>\n",
       "      <td>0.537500</td>\n",
       "      <td>90.0</td>\n",
       "      <td>146.0</td>\n",
       "      <td>45.0</td>\n",
       "      <td>132.0</td>\n",
       "      <td>1</td>\n",
       "    </tr>\n",
       "    <tr>\n",
       "      <th>21</th>\n",
       "      <td>62.0</td>\n",
       "      <td>23.640816</td>\n",
       "      <td>0</td>\n",
       "      <td>175.0</td>\n",
       "      <td>72.40</td>\n",
       "      <td>6.063889</td>\n",
       "      <td>202.0</td>\n",
       "      <td>52.0</td>\n",
       "      <td>12.0</td>\n",
       "      <td>129.0</td>\n",
       "      <td>1</td>\n",
       "    </tr>\n",
       "    <tr>\n",
       "      <th>22</th>\n",
       "      <td>54.0</td>\n",
       "      <td>34.710158</td>\n",
       "      <td>1</td>\n",
       "      <td>167.6</td>\n",
       "      <td>97.50</td>\n",
       "      <td>0.044444</td>\n",
       "      <td>205.0</td>\n",
       "      <td>110.0</td>\n",
       "      <td>52.0</td>\n",
       "      <td>137.0</td>\n",
       "      <td>0</td>\n",
       "    </tr>\n",
       "    <tr>\n",
       "      <th>23</th>\n",
       "      <td>74.0</td>\n",
       "      <td>33.651380</td>\n",
       "      <td>0</td>\n",
       "      <td>171.0</td>\n",
       "      <td>98.40</td>\n",
       "      <td>1.059722</td>\n",
       "      <td>184.0</td>\n",
       "      <td>103.0</td>\n",
       "      <td>4.0</td>\n",
       "      <td>136.0</td>\n",
       "      <td>0</td>\n",
       "    </tr>\n",
       "    <tr>\n",
       "      <th>24</th>\n",
       "      <td>52.0</td>\n",
       "      <td>20.402893</td>\n",
       "      <td>0</td>\n",
       "      <td>176.0</td>\n",
       "      <td>63.20</td>\n",
       "      <td>13.668750</td>\n",
       "      <td>105.0</td>\n",
       "      <td>133.0</td>\n",
       "      <td>44.0</td>\n",
       "      <td>135.0</td>\n",
       "      <td>1</td>\n",
       "    </tr>\n",
       "    <tr>\n",
       "      <th>25</th>\n",
       "      <td>70.0</td>\n",
       "      <td>28.686787</td>\n",
       "      <td>1</td>\n",
       "      <td>170.2</td>\n",
       "      <td>83.10</td>\n",
       "      <td>0.167361</td>\n",
       "      <td>201.0</td>\n",
       "      <td>95.0</td>\n",
       "      <td>25.0</td>\n",
       "      <td>139.0</td>\n",
       "      <td>1</td>\n",
       "    </tr>\n",
       "    <tr>\n",
       "      <th>26</th>\n",
       "      <td>78.0</td>\n",
       "      <td>21.250000</td>\n",
       "      <td>1</td>\n",
       "      <td>160.0</td>\n",
       "      <td>54.40</td>\n",
       "      <td>0.271528</td>\n",
       "      <td>201.0</td>\n",
       "      <td>134.0</td>\n",
       "      <td>60.0</td>\n",
       "      <td>130.0</td>\n",
       "      <td>0</td>\n",
       "    </tr>\n",
       "    <tr>\n",
       "      <th>27</th>\n",
       "      <td>86.0</td>\n",
       "      <td>19.188698</td>\n",
       "      <td>0</td>\n",
       "      <td>185.6</td>\n",
       "      <td>66.10</td>\n",
       "      <td>0.786111</td>\n",
       "      <td>111.0</td>\n",
       "      <td>152.0</td>\n",
       "      <td>30.0</td>\n",
       "      <td>137.0</td>\n",
       "      <td>1</td>\n",
       "    </tr>\n",
       "    <tr>\n",
       "      <th>28</th>\n",
       "      <td>58.0</td>\n",
       "      <td>23.295905</td>\n",
       "      <td>1</td>\n",
       "      <td>165.1</td>\n",
       "      <td>63.50</td>\n",
       "      <td>0.001389</td>\n",
       "      <td>264.0</td>\n",
       "      <td>178.0</td>\n",
       "      <td>40.0</td>\n",
       "      <td>139.0</td>\n",
       "      <td>1</td>\n",
       "    </tr>\n",
       "    <tr>\n",
       "      <th>29</th>\n",
       "      <td>69.0</td>\n",
       "      <td>51.288336</td>\n",
       "      <td>1</td>\n",
       "      <td>162.6</td>\n",
       "      <td>135.60</td>\n",
       "      <td>7.174306</td>\n",
       "      <td>158.0</td>\n",
       "      <td>154.0</td>\n",
       "      <td>45.0</td>\n",
       "      <td>138.0</td>\n",
       "      <td>1</td>\n",
       "    </tr>\n",
       "    <tr>\n",
       "      <th>30</th>\n",
       "      <td>78.0</td>\n",
       "      <td>30.524099</td>\n",
       "      <td>0</td>\n",
       "      <td>181.0</td>\n",
       "      <td>100.00</td>\n",
       "      <td>0.173611</td>\n",
       "      <td>230.0</td>\n",
       "      <td>98.0</td>\n",
       "      <td>9.0</td>\n",
       "      <td>132.0</td>\n",
       "      <td>1</td>\n",
       "    </tr>\n",
       "    <tr>\n",
       "      <th>31</th>\n",
       "      <td>46.0</td>\n",
       "      <td>47.477519</td>\n",
       "      <td>1</td>\n",
       "      <td>162.0</td>\n",
       "      <td>124.60</td>\n",
       "      <td>0.000694</td>\n",
       "      <td>598.7</td>\n",
       "      <td>39.0</td>\n",
       "      <td>12.0</td>\n",
       "      <td>130.0</td>\n",
       "      <td>1</td>\n",
       "    </tr>\n",
       "    <tr>\n",
       "      <th>32</th>\n",
       "      <td>63.0</td>\n",
       "      <td>28.138070</td>\n",
       "      <td>1</td>\n",
       "      <td>157.5</td>\n",
       "      <td>69.80</td>\n",
       "      <td>0.809028</td>\n",
       "      <td>105.0</td>\n",
       "      <td>99.0</td>\n",
       "      <td>6.0</td>\n",
       "      <td>138.0</td>\n",
       "      <td>0</td>\n",
       "    </tr>\n",
       "    <tr>\n",
       "      <th>33</th>\n",
       "      <td>32.0</td>\n",
       "      <td>20.012958</td>\n",
       "      <td>0</td>\n",
       "      <td>175.3</td>\n",
       "      <td>61.50</td>\n",
       "      <td>0.004861</td>\n",
       "      <td>573.0</td>\n",
       "      <td>107.0</td>\n",
       "      <td>7.0</td>\n",
       "      <td>140.0</td>\n",
       "      <td>0</td>\n",
       "    </tr>\n",
       "    <tr>\n",
       "      <th>34</th>\n",
       "      <td>76.0</td>\n",
       "      <td>31.265432</td>\n",
       "      <td>0</td>\n",
       "      <td>180.0</td>\n",
       "      <td>101.30</td>\n",
       "      <td>0.077778</td>\n",
       "      <td>102.0</td>\n",
       "      <td>124.0</td>\n",
       "      <td>6.0</td>\n",
       "      <td>150.0</td>\n",
       "      <td>1</td>\n",
       "    </tr>\n",
       "    <tr>\n",
       "      <th>35</th>\n",
       "      <td>72.0</td>\n",
       "      <td>21.165166</td>\n",
       "      <td>1</td>\n",
       "      <td>152.0</td>\n",
       "      <td>48.90</td>\n",
       "      <td>0.268056</td>\n",
       "      <td>103.0</td>\n",
       "      <td>130.0</td>\n",
       "      <td>31.0</td>\n",
       "      <td>147.0</td>\n",
       "      <td>1</td>\n",
       "    </tr>\n",
       "    <tr>\n",
       "      <th>36</th>\n",
       "      <td>43.0</td>\n",
       "      <td>31.294766</td>\n",
       "      <td>1</td>\n",
       "      <td>165.0</td>\n",
       "      <td>85.20</td>\n",
       "      <td>0.083333</td>\n",
       "      <td>93.0</td>\n",
       "      <td>122.0</td>\n",
       "      <td>10.0</td>\n",
       "      <td>144.0</td>\n",
       "      <td>0</td>\n",
       "    </tr>\n",
       "    <tr>\n",
       "      <th>37</th>\n",
       "      <td>57.0</td>\n",
       "      <td>31.757926</td>\n",
       "      <td>1</td>\n",
       "      <td>154.9</td>\n",
       "      <td>76.20</td>\n",
       "      <td>2.721528</td>\n",
       "      <td>181.0</td>\n",
       "      <td>137.0</td>\n",
       "      <td>47.0</td>\n",
       "      <td>141.0</td>\n",
       "      <td>1</td>\n",
       "    </tr>\n",
       "    <tr>\n",
       "      <th>38</th>\n",
       "      <td>31.0</td>\n",
       "      <td>37.300976</td>\n",
       "      <td>1</td>\n",
       "      <td>154.9</td>\n",
       "      <td>89.50</td>\n",
       "      <td>0.423611</td>\n",
       "      <td>75.0</td>\n",
       "      <td>116.0</td>\n",
       "      <td>42.0</td>\n",
       "      <td>139.0</td>\n",
       "      <td>0</td>\n",
       "    </tr>\n",
       "    <tr>\n",
       "      <th>39</th>\n",
       "      <td>81.0</td>\n",
       "      <td>20.989855</td>\n",
       "      <td>0</td>\n",
       "      <td>167.6</td>\n",
       "      <td>58.96</td>\n",
       "      <td>0.131250</td>\n",
       "      <td>212.0</td>\n",
       "      <td>138.0</td>\n",
       "      <td>12.0</td>\n",
       "      <td>154.0</td>\n",
       "      <td>0</td>\n",
       "    </tr>\n",
       "  </tbody>\n",
       "</table>\n",
       "</div>"
      ]
     },
     "execution_count": 39,
     "metadata": {},
     "output_type": "execute_result"
    }
   ],
   "execution_count": 39
  },
  {
   "cell_type": "markdown",
   "source": [
    "## Global attributes\n",
    "Define the global attributes\n",
    "> Note : You **cannot** modify the values of these attributes we have provided in the basic part"
   ],
   "metadata": {
    "id": "9cdYaIEjW7-r"
   }
  },
  {
   "cell_type": "code",
   "source": [
    "max_depth = 2\n",
    "depth = 0\n",
    "min_samples_split = 2\n",
    "n_features = input_data.shape[1] - 1"
   ],
   "metadata": {
    "id": "S4WLhABvW6Qr",
    "ExecuteTime": {
     "end_time": "2024-10-11T15:14:33.750606Z",
     "start_time": "2024-10-11T15:14:33.746802Z"
    }
   },
   "outputs": [],
   "execution_count": 40
  },
  {
   "cell_type": "markdown",
   "source": [
    "> You can add your own global attributes here"
   ],
   "metadata": {
    "id": "Zxs3U-K2W-ZI"
   }
  },
  {
   "cell_type": "code",
   "source": [],
   "metadata": {
    "id": "6x_2G6hNXA1_",
    "ExecuteTime": {
     "end_time": "2024-10-11T15:14:33.788982Z",
     "start_time": "2024-10-11T15:14:33.785512Z"
    }
   },
   "outputs": [],
   "execution_count": null
  },
  {
   "cell_type": "markdown",
   "source": [
    "## Section 1: Function Implementation and Testing"
   ],
   "metadata": {
    "id": "5qvPkvOpXBgX"
   }
  },
  {
   "cell_type": "markdown",
   "source": [
    "### Step 1 & 2: Calculate the Entropy and Information Gain\n",
    "In these steps, you will implement functions to calculate entropy and information gain. These metrics are crucial for determining the best way to split the dataset at each node in the decision tree.\n",
    "\n",
    "If you need some help on Entropy and Information Gain, please refer to\n",
    "* https://codingnomads.com/decision-tree-information-gain-entropy#what-is-entropy\n",
    "* https://www.mldawn.com/decision-trees-entropy/#:~:text=In%20a%20binary%20classification%20problem%2C%20when%20Entropy%20hits%200%20it,state%20of%20purity%20and%20certainty.\n"
   ],
   "metadata": {
    "id": "1WWTmDqyXGR5"
   }
  },
  {
   "cell_type": "code",
   "source": [
    "def entropy(data):\n",
    "    \"\"\"\n",
    "    This function measures the amount of uncertainty in a probability distribution\n",
    "    args:\n",
    "    * data(type: DataFrame): the data you're calculating for the entropy\n",
    "    return:\n",
    "    * entropy_value(type: float): the data's entropy\n",
    "    \"\"\"\n",
    "    p = 0 # to count the number of cases that survived\n",
    "    n = 0 # to count the number of cases that passed away\n",
    "\n",
    "    ### START CODE HERE ###\n",
    "    # Hint 1: what is the equation for calculating entropy?\n",
    "    # Hint 2: consider the case when p == 0 or n == 0, what should entropy be?\n",
    "    \n",
    "    # calculate number of p and n\n",
    "    p = np.sum(data['hospital_death'] == 0)\n",
    "    n = np.sum(data['hospital_death'] == 1)\n",
    "    \n",
    "    # probability of p and n\n",
    "    if len(data):\n",
    "        probP = p / len(data)\n",
    "        probN = n / len(data)\n",
    "    else:\n",
    "        probP = 0\n",
    "        probN = 0\n",
    "    \n",
    "    # calculate entropy\n",
    "    if probP == 0 or probN == 0:\n",
    "        entropy_value = 0\n",
    "    else:\n",
    "        entropy_value = round(-probP * math.log2(probP) - probN * math.log2(probN), 4)\n",
    "\n",
    "    ### END CODE HERE ###\n",
    "\n",
    "    return entropy_value\n",
    "\n",
    "# [Note] You have to save the value of \"ans_entropy\" into the output file\n",
    "# Please round your answer to 4 decimal place\n",
    "ans_entropy = entropy(input_data)\n",
    "print(\"ans_entropy = \", ans_entropy)"
   ],
   "metadata": {
    "id": "4j-LodsRXLd4",
    "ExecuteTime": {
     "end_time": "2024-10-11T15:14:33.860267Z",
     "start_time": "2024-10-11T15:14:33.847932Z"
    }
   },
   "outputs": [
    {
     "name": "stdout",
     "output_type": "stream",
     "text": [
      "ans_entropy =  0.9928\n"
     ]
    }
   ],
   "execution_count": 41
  },
  {
   "cell_type": "markdown",
   "source": [
    "Expected output:\n",
    "> ans_entropy =  0.9928"
   ],
   "metadata": {
    "id": "k6pZ-HjJiDWv"
   }
  },
  {
   "cell_type": "code",
   "source": [
    "def information_gain(data, mask):\n",
    "    \"\"\"\n",
    "    This function will calculate the information gain\n",
    "    args:\n",
    "    * data(type: DataFrame): the data you're calculating for the information gain\n",
    "    * mask(type: Series): partition information(left/right) of current input data,\n",
    "      - boolean 1(True) represents split to left subtree\n",
    "      - boolean 0(False) represents split to right subtree\n",
    "    return:\n",
    "    * ig(type: float): the information gain you can obtain by classifying the data with this given mask\n",
    "    \"\"\"\n",
    "    ### START CODE HERE ###\n",
    "    # Hint: you should use mask to split the data into two, then recall what is the equation for calculating information gain\n",
    "    data = data.reset_index(drop=True)\n",
    "    left = data[mask]\n",
    "    right = data[~pd.Series(mask)]\n",
    "    \n",
    "    \n",
    "    entropybefore = entropy(data)\n",
    "    entropyafter = (len(left) / len(data)) * entropy(left) + (len(right) / len(data)) * entropy(right)\n",
    "    ig = round(entropybefore - entropyafter, 4)\n",
    "    ### END CODE HERE ###\n",
    "\n",
    "    return ig\n",
    "\n",
    "# [Note] You have to save the value of \"ans_informationGain\" into your output file\n",
    "# Here, let's assume that we split the input_data with 2/3 of the data in the left subtree and 1/3 in the right subtree\n",
    "# Please round your answer to 4 decimal place\n",
    "temp1 = np.zeros((int(input_data.shape[0]/3), 1), dtype=bool)\n",
    "temp2 = np.ones(((input_data.shape[0]-int(input_data.shape[0]/3), 1)), dtype=bool)\n",
    "temp_mask = np.concatenate((temp1, temp2))\n",
    "df_mask = pd.DataFrame(temp_mask, columns=['mask'])\n",
    "ans_informationGain = information_gain(input_data, df_mask['mask'])\n",
    "print(\"ans_informationGain = \", ans_informationGain)"
   ],
   "metadata": {
    "id": "hTvkGOCdXS0H",
    "ExecuteTime": {
     "end_time": "2024-10-11T15:14:33.976397Z",
     "start_time": "2024-10-11T15:14:33.961071Z"
    }
   },
   "outputs": [
    {
     "name": "stdout",
     "output_type": "stream",
     "text": [
      "ans_informationGain =  0.0385\n"
     ]
    }
   ],
   "execution_count": 42
  },
  {
   "cell_type": "markdown",
   "source": [
    "Expected output:\n",
    "> ans_informationGain = 0.0385"
   ],
   "metadata": {
    "id": "v5RLtCwcieQ8"
   }
  },
  {
   "cell_type": "markdown",
   "source": [
    "### Step 3: Find the Best Split\n",
    "In this step, you will use the information gain calculated for each feature to find the best split. The best split is the point where the dataset is divided into two subgroups (left and right subtrees) in a way that maximizes the reduction of entropy.\n",
    "\n",
    "\n",
    "> Method: The process involves evaluating **every possible split** for each feature in the dataset. After sorting the data, you calculate potential split points by taking the **median of two consecutive values** where they differ. This median value becomes the threshold for splitting the data into two branches. The split that results in the highest information gain is selected as the best split.\n",
    "\n",
    "> Note: The method we have provided is a straightforward and basic approach. Please use this method to complete the basic part of the assignment. However, for the advanced part, you are welcome to explore and use other methods to fine-tune your model."
   ],
   "metadata": {
    "id": "rXajOk9jXefG"
   }
  },
  {
   "cell_type": "code",
   "source": [
    "def find_best_split(data, impl_part):\n",
    "    \"\"\"\n",
    "    This function will find the best split combination of data\n",
    "    args:\n",
    "    * data(type: DataFrame): the input data\n",
    "    * impl_part(type: string): 'basic' or 'advanced' to specify which implementation to use\n",
    "    return\n",
    "    * best_ig(type: float): the best information gain you obtain\n",
    "    * best_threshold(type: float): the value that splits data into 2 branches\n",
    "    * best_feature(type: string): the feature that splits data into 2 branches\n",
    "    \"\"\"\n",
    "    best_ig = -1e9\n",
    "    best_threshold = 0\n",
    "    best_feature = ''\n",
    "\n",
    "    if(impl_part == 'basic'):\n",
    "        # Implement this part of the function using the method we provided\n",
    "        ### START CODE HERE ###\n",
    "        features = list(data.columns[:-1])\n",
    "        for feature in features:\n",
    "            # make mask for information gain\n",
    "            values = sorted(list(set(data[feature])))\n",
    "            # judge if values consist of 0 and 1s\n",
    "            if set(values).issubset({0, 1}):\n",
    "                thresholds = [0, 1]\n",
    "            else:\n",
    "                thresholds = list((values[i] + values[i+1]) / 2 for i in range(len(values)-1))\n",
    "            \n",
    "            for threshold in thresholds:\n",
    "                mask = list(data[feature] <= threshold)\n",
    "                cal_ig = information_gain(data, mask)\n",
    "                # update ig if having more information\n",
    "                if cal_ig > best_ig:\n",
    "                    best_ig = cal_ig\n",
    "                    best_threshold = threshold\n",
    "                    best_feature = feature\n",
    "        ### END CODE HERE ###\n",
    "    else:\n",
    "        # You can implement another method here for the advanced part\n",
    "        ### START CODE HERE ###\n",
    "        pass\n",
    "        ### END CODE HERE ###\n",
    "\n",
    "    return best_ig, best_threshold, best_feature\n",
    "\n",
    "\n",
    "# [Note] You have to save the value of \"ans_ig\", \"ans_value\", and \"ans_name\" into the output file\n",
    "# Here, let's try to find the best split for the input_data\n",
    "# Please round your answer to 4 decimal place\n",
    "ans_ig, ans_value, ans_name = find_best_split(input_data, 'basic')\n",
    "print(\"ans_ig = \", ans_ig)\n",
    "print(\"ans_value = \", ans_value)\n",
    "print(\"ans_name = \", ans_name)"
   ],
   "metadata": {
    "id": "oT8UOEtzXiEu",
    "ExecuteTime": {
     "end_time": "2024-10-11T15:14:34.276247Z",
     "start_time": "2024-10-11T15:14:34.041640Z"
    }
   },
   "outputs": [
    {
     "name": "stdout",
     "output_type": "stream",
     "text": [
      "ans_ig =  0.2146\n",
      "ans_value =  99.5\n",
      "ans_name =  glucose_apache\n"
     ]
    }
   ],
   "execution_count": 43
  },
  {
   "cell_type": "markdown",
   "source": [
    "Expected output:\n",
    "> ans_ig =  0.2146\n",
    "\n",
    "> ans_value =  99.5\n",
    "\n",
    "> ans_name =  glucose_apache"
   ],
   "metadata": {
    "id": "ovN6pxbXjQE6"
   }
  },
  {
   "cell_type": "markdown",
   "source": [
    "### Step 4: Split into 2 branches\n",
    "\n",
    "When you are building a decision tree, after identifying the best split, you will divide the dataset into two branches: a left branch and a right branch. Each branch represents a subset of the data based on the chosen **feature** and **split point**.\n",
    "\n",
    "* The left branch will contain the data points that meet the condition of the split (e.g., values less than or equal to the split threshold).\n",
    "* The right branch will contain the remaining data points (e.g., values greater than the split threshold).\n",
    "\n",
    "This step is essential because it creates the subgroups that the decision tree will continue to split in subsequent steps. By repeatedly splitting the data into smaller and more homogenous branches, the tree becomes more capable of accurately classifying new data points."
   ],
   "metadata": {
    "id": "n6koURsiXwjm"
   }
  },
  {
   "cell_type": "code",
   "source": [
    "def make_partition(data, feature, threshold):\n",
    "    \"\"\"\n",
    "    This function will split the data into 2 branches\n",
    "    args:\n",
    "    * data(type: DataFrame): the input data\n",
    "    * feature(type: string): the attribute(column name)\n",
    "    * threshold(type: float): the threshold for splitting the data\n",
    "    return:\n",
    "    * left(type: DataFrame): the divided data that matches(less than or equal to) the assigned feature's threshold\n",
    "    * right(type: DataFrame): the divided data that doesn't match the assigned feature's threshold\n",
    "    \"\"\"\n",
    "    ### START CODE HERE ###\n",
    "    left = data[data[feature] <= threshold]\n",
    "    right = data[data[feature] > threshold]\n",
    "    ### END CODE HERE ###\n",
    "\n",
    "    return left, right\n",
    "\n",
    "\n",
    "# [Note] You have to save the value of \"ans_left\" into the output file\n",
    "# Here, let's assume the best split is when we choose bmi as the feature and threshold as 21.0\n",
    "left, right = make_partition(input_data, 'bmi', 21.0)\n",
    "ans_left = left.shape[0]\n",
    "print(\"ans_left = \", ans_left)"
   ],
   "metadata": {
    "id": "0u0_dlPwX07H",
    "ExecuteTime": {
     "end_time": "2024-10-11T15:14:34.337513Z",
     "start_time": "2024-10-11T15:14:34.331328Z"
    }
   },
   "outputs": [
    {
     "name": "stdout",
     "output_type": "stream",
     "text": [
      "ans_left =  7\n"
     ]
    }
   ],
   "execution_count": 44
  },
  {
   "cell_type": "markdown",
   "source": [
    "Expected output:\n",
    "> ans_left = 7"
   ],
   "metadata": {
    "id": "SJjyqmgXj2GX"
   }
  },
  {
   "cell_type": "markdown",
   "source": [
    "### Step 5: Build the Decision Tree\n",
    "Hang in there... we are almost done with this section!\n",
    "\n",
    "Now, you need to use the above functions to complete a build_tree function.\n",
    "\n",
    "> Method:\n",
    "1.  If current depth < max_depth and the remaining number of samples > min_samples_split: continue to classify those samples\n",
    "2.  Use function *find_best_split()* to find the best split combination\n",
    "3.  If the obtained information gain is **greater than 0**: can build a deeper decision tree (add depth)\n",
    "4. Use function *make_partition()* to split the data into two parts\n",
    "5. Save the features and corresponding thresholds (starting from the root) used by the decision tree into *ans_features[]* and *ans_thresholds[]* respectively"
   ],
   "metadata": {
    "id": "sJKThK7yX8XX"
   }
  },
  {
   "cell_type": "code",
   "source": [
    "def build_tree(data, max_depth, min_samples_split, depth):\n",
    "    \"\"\"\n",
    "    This function will build the decision tree\n",
    "    args:\n",
    "    * data(type: DataFrame): the data you want to apply to the decision tree\n",
    "    * max_depth: the maximum depth of a decision tree\n",
    "    * min_samples_split: the minimum number of instances required to do partition\n",
    "    * depth: the height of the current decision tree\n",
    "    return:\n",
    "    * subtree: the decision tree structure including root, branch, and leaf (with the attributes and thresholds)\n",
    "    \"\"\"\n",
    "    ### START CODE HERE ###\n",
    "    # check the condition of current depth and the remaining number of samples\n",
    "    if depth < max_depth and len(data) > min_samples_split:\n",
    "        # call find_best_split() to find the best combination\n",
    "        best_ig, threshold, feature = find_best_split(data, 'basic')\n",
    "        \n",
    "        # check the value of information gain is greater than 0 or not\n",
    "        if best_ig > 0:\n",
    "            # update the depth\n",
    "            depth += 1\n",
    "            # call make_partition() to split the data into two parts\n",
    "            left, right = make_partition(data, feature, threshold)\n",
    "            # If there is no data split to the left tree OR no data split to the right tree\n",
    "            if left.shape[0] == 0 or right.shape[0] == 0:\n",
    "                # return the label of the majority\n",
    "                unique_labels, counts = np.unique(list(data['hospital_death']), return_counts=True)\n",
    "                label = unique_labels[np.argmax(counts)]\n",
    "                return label\n",
    "            else:\n",
    "                # add the feature and threshold to the list\n",
    "                ans_features.append(feature)\n",
    "                ans_thresholds.append(threshold)\n",
    "                \n",
    "                question = \"{} {} {}\".format(feature, \"<=\", threshold)\n",
    "                subtree = {question: []}\n",
    "\n",
    "                # call function build_tree() to recursively build the left subtree and right subtree\n",
    "                left_subtree = build_tree(left, max_depth, min_samples_split, depth)\n",
    "                right_subtree = build_tree(right, max_depth, min_samples_split, depth)\n",
    "\n",
    "                if left_subtree == right_subtree:\n",
    "                    # this feature is unused and should be removed\n",
    "                    ans_features.pop()\n",
    "                    ans_thresholds.pop()\n",
    "                    \n",
    "                    subtree = left_subtree\n",
    "                else:\n",
    "                    subtree[question].append(left_subtree)\n",
    "                    subtree[question].append(right_subtree)\n",
    "        else:\n",
    "            # return the label of the majority\n",
    "            unique_labels, counts = np.unique(list(data['hospital_death']), return_counts=True)\n",
    "            label = unique_labels[np.argmax(counts)]\n",
    "            return label\n",
    "    else:\n",
    "        # return the label of the majority\n",
    "        unique_labels, counts = np.unique(list(data['hospital_death']), return_counts=True)\n",
    "        label = unique_labels[np.argmax(counts)]\n",
    "        return label\n",
    "    ### END CODE HERE ###\n",
    "\n",
    "    return subtree"
   ],
   "metadata": {
    "id": "ZC7qkOjAYAlQ",
    "ExecuteTime": {
     "end_time": "2024-10-11T15:14:34.410207Z",
     "start_time": "2024-10-11T15:14:34.403197Z"
    }
   },
   "outputs": [],
   "execution_count": 45
  },
  {
   "cell_type": "markdown",
   "source": [
    "An example of the output from *build_tree()*\n",
    "```\n",
    "{'bmi <= 33.5': [1, {'age <= 68.5': [0, 1]}]}\n",
    "```\n",
    "Therefore,\n",
    "```\n",
    "ans_features = ['bmi', 'age']\n",
    "ans_thresholds = [33.5, 68.5]\n",
    "```"
   ],
   "metadata": {
    "id": "U7URY3IMkULl"
   }
  },
  {
   "cell_type": "code",
   "source": [
    "# Here, let's build a decision tree using the input_data\n",
    "\n",
    "ans_features = []\n",
    "ans_thresholds = []\n",
    "\n",
    "decisionTree = build_tree(input_data, max_depth, min_samples_split, depth)\n",
    "decisionTree"
   ],
   "metadata": {
    "id": "dAuaqjhuYQSi",
    "ExecuteTime": {
     "end_time": "2024-10-11T15:14:35.087203Z",
     "start_time": "2024-10-11T15:14:34.472181Z"
    }
   },
   "outputs": [
    {
     "data": {
      "text/plain": [
       "{'glucose_apache <= 99.5': [{'height <= 184.15': [0, 1]}, 1]}"
      ]
     },
     "execution_count": 46,
     "metadata": {},
     "output_type": "execute_result"
    }
   ],
   "execution_count": 46
  },
  {
   "cell_type": "markdown",
   "source": [
    "Expected output:\n",
    "> decisionTree = {'glucose_apache <= 99.5': [{'height <= 184.15': [0, 1]}, 1]}"
   ],
   "metadata": {
    "id": "cD6A_jADyTjw"
   }
  },
  {
   "cell_type": "code",
   "source": [
    "# [Note] You have to save the features in the \"decisionTree\" structure (from root to branch and leaf) into the output file\n",
    "ans_features"
   ],
   "metadata": {
    "id": "oTdQ3vVkYYEQ",
    "ExecuteTime": {
     "end_time": "2024-10-11T15:14:35.149461Z",
     "start_time": "2024-10-11T15:14:35.144059Z"
    }
   },
   "outputs": [
    {
     "data": {
      "text/plain": [
       "['glucose_apache', 'height']"
      ]
     },
     "execution_count": 47,
     "metadata": {},
     "output_type": "execute_result"
    }
   ],
   "execution_count": 47
  },
  {
   "cell_type": "markdown",
   "source": [
    "Expected output:\n",
    "> ans_features = ['glucose_apache', 'height']"
   ],
   "metadata": {
    "id": "HZO17E9vkbi4"
   }
  },
  {
   "cell_type": "code",
   "source": [
    "# [Note] You have to save the corresponding thresholds for the features in the \"ans_features\" list into the output file\n",
    "ans_thresholds"
   ],
   "metadata": {
    "id": "BUeZh1o5YYem",
    "ExecuteTime": {
     "end_time": "2024-10-11T15:14:35.211868Z",
     "start_time": "2024-10-11T15:14:35.207769Z"
    }
   },
   "outputs": [
    {
     "data": {
      "text/plain": [
       "[99.5, 184.15]"
      ]
     },
     "execution_count": 48,
     "metadata": {},
     "output_type": "execute_result"
    }
   ],
   "execution_count": 48
  },
  {
   "cell_type": "markdown",
   "source": [
    "Expected output:\n",
    "> ans_thresholds = [99.5, 184.15]"
   ],
   "metadata": {
    "id": "tUPTy5RWj-1D"
   }
  },
  {
   "cell_type": "markdown",
   "source": [
    "### Step 6: Save answers"
   ],
   "metadata": {
    "id": "69TQQNVaYdmp"
   }
  },
  {
   "cell_type": "code",
   "source": [
    "basic = []\n",
    "basic.append(ans_entropy)\n",
    "basic.append(ans_informationGain)\n",
    "basic.append([ans_ig, ans_value, ans_name])\n",
    "basic.append(ans_left)\n",
    "basic.append(ans_features + ans_thresholds)"
   ],
   "metadata": {
    "id": "B9DosXRQYbDg",
    "ExecuteTime": {
     "end_time": "2024-10-11T15:14:35.273495Z",
     "start_time": "2024-10-11T15:14:35.269641Z"
    }
   },
   "outputs": [],
   "execution_count": 49
  },
  {
   "cell_type": "markdown",
   "source": [
    "## Section 2: Build a Decision Tree Model\n",
    "\n",
    "Congrats! You have completed all 5 crucial functions. Now, we will use the functions above to implement a simple decision tree. You will train the decision tree using a training set and make predictions using a validation set."
   ],
   "metadata": {
    "id": "LpMpPwySYlUu"
   }
  },
  {
   "cell_type": "markdown",
   "source": [
    "### Step 1: Split data into training set and validation set\n",
    "> Note: We have split the data into training set and validation. You **cannot** change the distribution of the data."
   ],
   "metadata": {
    "id": "-1egGj-lYn6O"
   }
  },
  {
   "cell_type": "code",
   "source": [
    "num_train = 30\n",
    "num_validation = 10\n",
    "\n",
    "training_data = input_data.iloc[:num_train]\n",
    "validation_data = input_data.iloc[-num_validation:]\n",
    "\n",
    "y_train = training_data[['hospital_death']]\n",
    "x_train = training_data.drop(['hospital_death'], axis=1)\n",
    "\n",
    "y_validation = validation_data[['hospital_death']]\n",
    "x_validation = validation_data.drop(['hospital_death'], axis=1)\n",
    "y_validation = y_validation.values.flatten()\n",
    "\n",
    "print(input_data.shape)\n",
    "print(training_data.shape)\n",
    "print(validation_data.shape)"
   ],
   "metadata": {
    "id": "GAHFMO4QYpZ1",
    "ExecuteTime": {
     "end_time": "2024-10-11T15:14:35.336530Z",
     "start_time": "2024-10-11T15:14:35.329423Z"
    }
   },
   "outputs": [
    {
     "name": "stdout",
     "output_type": "stream",
     "text": [
      "(40, 11)\n",
      "(30, 11)\n",
      "(10, 11)\n"
     ]
    }
   ],
   "execution_count": 50
  },
  {
   "cell_type": "markdown",
   "source": [
    "### Step 2 to 4 : Make predictions with a decision tree"
   ],
   "metadata": {
    "id": "pQlhfOJ0YySZ"
   }
  },
  {
   "cell_type": "markdown",
   "source": [
    "Define the attributions of the decision tree\n",
    "> You **cannot** modify the values of these attributes in this part"
   ],
   "metadata": {
    "id": "M5IHxhEjY1rN"
   }
  },
  {
   "cell_type": "code",
   "source": [
    "max_depth = 2\n",
    "depth = 0\n",
    "min_samples_split = 2\n",
    "n_features = x_train.shape[1]"
   ],
   "metadata": {
    "id": "Vwt7BRJ1Y3hD",
    "ExecuteTime": {
     "end_time": "2024-10-11T15:14:35.391736Z",
     "start_time": "2024-10-11T15:14:35.387135Z"
    }
   },
   "outputs": [],
   "execution_count": 51
  },
  {
   "cell_type": "markdown",
   "source": [
    "We have finished the function 'classify_data()' below, however, you can modify this function if you prefer completing it on your own way."
   ],
   "metadata": {
    "id": "6-ly7gvtY5VQ"
   }
  },
  {
   "cell_type": "code",
   "source": [
    "def classify_data(instance, tree):\n",
    "    \"\"\"\n",
    "    This function will predict/classify the input instance\n",
    "    args:\n",
    "    * instance: a instance(case) to be predicted\n",
    "    return:\n",
    "    * answer: the prediction result (the classification result)\n",
    "    \"\"\"\n",
    "    equation = list(tree.keys())[0]\n",
    "    if equation.split()[1] == '<=':\n",
    "        temp_feature = equation.split()[0]\n",
    "        temp_threshold = equation.split()[2]\n",
    "        if instance[temp_feature] > float(temp_threshold):\n",
    "            answer = tree[equation][1]\n",
    "        else:\n",
    "            answer = tree[equation][0]\n",
    "    else:\n",
    "        if instance[equation.split()[0]] in (equation.split()[2]):\n",
    "            answer = tree[equation][0]\n",
    "        else:\n",
    "            answer = tree[equation][1]\n",
    "\n",
    "    if not isinstance(answer, dict):\n",
    "        return answer\n",
    "    else:\n",
    "        return classify_data(instance, answer)\n",
    "\n",
    "\n",
    "def make_prediction(tree, data):\n",
    "    \"\"\"\n",
    "    This function will use your pre-trained decision tree to predict the labels of all instances in data\n",
    "    args:\n",
    "    * tree: the decision tree\n",
    "    * data: the data to predict\n",
    "    return:\n",
    "    * y_prediction: the predictions\n",
    "    \"\"\"\n",
    "    ### START CODE HERE ###\n",
    "    # [Note] You can call the function classify_data() to predict the label of each instance\n",
    "    y_prediction = []\n",
    "    idx = data.index.tolist()\n",
    "    for i in idx:\n",
    "        y_prediction.append(classify_data(data.loc[i], tree))\n",
    "\n",
    "    ### END CODE HERE ###\n",
    "\n",
    "    return y_prediction\n",
    "\n",
    "\n",
    "def calculate_score(y_true, y_pred):\n",
    "    \"\"\"\n",
    "    This function will calculate the f1-score of the predictions\n",
    "    args:\n",
    "    * y_true: the ground truth\n",
    "    * y_pred: the predictions\n",
    "    return:\n",
    "    * score: the f1-score\n",
    "    \"\"\"\n",
    "    score = f1_score(y_true, y_pred)\n",
    "\n",
    "    return score"
   ],
   "metadata": {
    "id": "V4LfxAnYY6UQ",
    "ExecuteTime": {
     "end_time": "2024-10-11T15:14:35.442807Z",
     "start_time": "2024-10-11T15:14:35.436294Z"
    }
   },
   "outputs": [],
   "execution_count": 52
  },
  {
   "cell_type": "code",
   "source": [
    "decision_tree = build_tree(training_data, max_depth, min_samples_split, depth)\n",
    "\n",
    "y_pred = make_prediction(decision_tree, x_validation)\n",
    "\n",
    "# [Note] You have to save the value of \"ans_f1score\" into your output file\n",
    "# Please round your answer to 4 decimal place\n",
    "ans_f1score = calculate_score(y_validation, y_pred)\n",
    "print(\"ans_f1score = \", ans_f1score)"
   ],
   "metadata": {
    "id": "_VEmtbmtZLQJ",
    "ExecuteTime": {
     "end_time": "2024-10-11T15:14:35.873340Z",
     "start_time": "2024-10-11T15:14:35.493913Z"
    }
   },
   "outputs": [
    {
     "name": "stdout",
     "output_type": "stream",
     "text": [
      "ans_f1score =  0.4444444444444445\n"
     ]
    }
   ],
   "execution_count": 53
  },
  {
   "cell_type": "markdown",
   "source": [
    "Expected output:\n",
    "> ans_f1score =  0.4444"
   ],
   "metadata": {
    "id": "lUcJZRYZk4kX"
   }
  },
  {
   "cell_type": "code",
   "source": [
    "# This is just for you to check your predictions\n",
    "y_pred"
   ],
   "metadata": {
    "id": "5t58_-BwpGnY",
    "ExecuteTime": {
     "end_time": "2024-10-11T15:14:35.931370Z",
     "start_time": "2024-10-11T15:14:35.927521Z"
    }
   },
   "outputs": [
    {
     "data": {
      "text/plain": [
       "[1, 1, 0, 1, 0, 0, 0, 0, 0, 1]"
      ]
     },
     "execution_count": 54,
     "metadata": {},
     "output_type": "execute_result"
    }
   ],
   "execution_count": 54
  },
  {
   "cell_type": "markdown",
   "source": [
    "Expected output:\n",
    "> y_pred = [1, 1, 0, 1, 0, 0, 0, 0, 0, 1]"
   ],
   "metadata": {
    "id": "k7NM7CvdpHzb"
   }
  },
  {
   "cell_type": "markdown",
   "source": [
    "### Step 5: Save answer"
   ],
   "metadata": {
    "id": "COjs0B5jZQ8y"
   }
  },
  {
   "cell_type": "code",
   "source": [
    "basic.append(ans_f1score)"
   ],
   "metadata": {
    "id": "Hijx-U2yZUAk",
    "ExecuteTime": {
     "end_time": "2024-10-11T15:14:35.983369Z",
     "start_time": "2024-10-11T15:14:35.979676Z"
    }
   },
   "outputs": [],
   "execution_count": 55
  },
  {
   "cell_type": "markdown",
   "source": [
    "## Write to Output File\n",
    "Save all of your answers into a csv file named **lab2_basic.csv**\n",
    "> Note: Please do not touch the code in this step, we have made sure this outputs the correct file format."
   ],
   "metadata": {
    "id": "r9lr2gbVZUwc"
   }
  },
  {
   "cell_type": "code",
   "source": [
    "basic_path = 'lab2_basic.csv'\n",
    "\n",
    "basic_df = pd.DataFrame({'Id': range(len(basic)), 'Ans': basic})\n",
    "basic_df.set_index('Id', inplace=True)\n",
    "basic_df"
   ],
   "metadata": {
    "id": "a5_ifgVZZZKZ",
    "ExecuteTime": {
     "end_time": "2024-10-11T15:14:36.038847Z",
     "start_time": "2024-10-11T15:14:36.032126Z"
    }
   },
   "outputs": [
    {
     "data": {
      "text/plain": [
       "                                       Ans\n",
       "Id                                        \n",
       "0                                   0.9928\n",
       "1                                   0.0385\n",
       "2           [0.2146, 99.5, glucose_apache]\n",
       "3                                        7\n",
       "4   [glucose_apache, height, 99.5, 184.15]\n",
       "5                                 0.444444"
      ],
      "text/html": [
       "<div>\n",
       "<style scoped>\n",
       "    .dataframe tbody tr th:only-of-type {\n",
       "        vertical-align: middle;\n",
       "    }\n",
       "\n",
       "    .dataframe tbody tr th {\n",
       "        vertical-align: top;\n",
       "    }\n",
       "\n",
       "    .dataframe thead th {\n",
       "        text-align: right;\n",
       "    }\n",
       "</style>\n",
       "<table border=\"1\" class=\"dataframe\">\n",
       "  <thead>\n",
       "    <tr style=\"text-align: right;\">\n",
       "      <th></th>\n",
       "      <th>Ans</th>\n",
       "    </tr>\n",
       "    <tr>\n",
       "      <th>Id</th>\n",
       "      <th></th>\n",
       "    </tr>\n",
       "  </thead>\n",
       "  <tbody>\n",
       "    <tr>\n",
       "      <th>0</th>\n",
       "      <td>0.9928</td>\n",
       "    </tr>\n",
       "    <tr>\n",
       "      <th>1</th>\n",
       "      <td>0.0385</td>\n",
       "    </tr>\n",
       "    <tr>\n",
       "      <th>2</th>\n",
       "      <td>[0.2146, 99.5, glucose_apache]</td>\n",
       "    </tr>\n",
       "    <tr>\n",
       "      <th>3</th>\n",
       "      <td>7</td>\n",
       "    </tr>\n",
       "    <tr>\n",
       "      <th>4</th>\n",
       "      <td>[glucose_apache, height, 99.5, 184.15]</td>\n",
       "    </tr>\n",
       "    <tr>\n",
       "      <th>5</th>\n",
       "      <td>0.444444</td>\n",
       "    </tr>\n",
       "  </tbody>\n",
       "</table>\n",
       "</div>"
      ]
     },
     "execution_count": 56,
     "metadata": {},
     "output_type": "execute_result"
    }
   ],
   "execution_count": 56
  },
  {
   "cell_type": "code",
   "source": [
    "basic_df.to_csv(basic_path, header = True, index = True)"
   ],
   "metadata": {
    "id": "OTK0JT1965qS",
    "ExecuteTime": {
     "end_time": "2024-10-11T15:14:36.110893Z",
     "start_time": "2024-10-11T15:14:36.105650Z"
    }
   },
   "outputs": [],
   "execution_count": 57
  },
  {
   "cell_type": "markdown",
   "source": [
    "# **Advanced Part** (65%)\n",
    "\n",
    "In the advanced section of this lab, you will enhance your prediction capabilities by implementing a more powerful and complex machine learning model—Random Forests. Random Forests are an ensemble learning method that builds multiple decision trees and combines their outputs to improve prediction accuracy and model robustness.\n",
    "> * Step 1: Load training and testing data\n",
    "> * Step 2: Split training data into training and validation set\n",
    "> * Step 3: Build a Random Forest\n",
    "> * Step 4: Make predictions with the random forest\n",
    "> * Step 5: Write the Output File\n",
    "\n",
    "> ❗ **Important** ❗ You are allowed to create new functions to fine tune your random forest, but please make sure to **complete the functions provided**.\n",
    "\n",
    "\n",
    "\n",
    "We have attached some references if you need help:\n",
    "> https://medium.com/chung-yi/ml%E5%85%A5%E9%96%80-%E5%8D%81%E4%B8%83-%E9%9A%A8%E6%A9%9F%E6%A3%AE%E6%9E%97-random-forest-6afc24871857\n",
    "\n",
    "> https://www.geeksforgeeks.org/random-forest-algorithm-in-machine-learning/\n",
    "\n"
   ],
   "metadata": {
    "id": "Chm8Ro6zZsWp"
   }
  },
  {
   "cell_type": "markdown",
   "source": [
    "### Step 1: Load training and testing data\n",
    "First, load **lab2_advanced_training.csv**. You will use this to **train** the random forest."
   ],
   "metadata": {
    "id": "6kBs4D02Z0Ub"
   }
  },
  {
   "cell_type": "code",
   "source": [
    "advanced_training_data = pd.read_csv('lab2_advanced_training.csv')\n",
    "advanced_training_data"
   ],
   "metadata": {
    "id": "vLTMFK14Z4z5",
    "ExecuteTime": {
     "end_time": "2024-10-11T15:14:36.181882Z",
     "start_time": "2024-10-11T15:14:36.140586Z"
    }
   },
   "outputs": [
    {
     "data": {
      "text/plain": [
       "       age        bmi  gender  height  weight  pre_icu_los_days  arf_apache   \n",
       "0     79.0  25.616497       1   168.0    72.3          0.305556         0.0  \\\n",
       "1     43.0  23.494409       0   171.0    68.7          0.011806         0.0   \n",
       "2     62.0  29.145882       0   182.9    97.5          0.006250         0.0   \n",
       "3     72.0  41.183318       1   170.2   119.3          1.945139         0.0   \n",
       "4     87.0  22.914211       0   170.1    66.3          0.085417         0.0   \n",
       "...    ...        ...     ...     ...     ...               ...         ...   \n",
       "8495  55.0  33.201250       0   165.1    90.5          0.052083         0.0   \n",
       "8496  87.0  29.756001       1   142.0    60.0          0.014583         0.0   \n",
       "8497  80.0  17.630854       1   165.0    48.0          0.102778         0.0   \n",
       "8498  74.0  19.199423       0   175.3    59.0          0.460417         0.0   \n",
       "8499  77.0  29.412958       1   157.0    72.5          0.538889         0.0   \n",
       "\n",
       "      bun_apache  creatinine_apache  gcs_eyes_apache  ...  temp_apache   \n",
       "0           20.0               0.92              4.0  ...         36.3  \\\n",
       "1            9.0               0.70              1.0  ...         39.5   \n",
       "2           54.0               3.59              1.0  ...         35.0   \n",
       "3           53.0               2.25              4.0  ...         37.1   \n",
       "4           33.0               1.60              4.0  ...         36.1   \n",
       "...          ...                ...              ...  ...          ...   \n",
       "8495        15.0               1.09              4.0  ...         37.7   \n",
       "8496        17.0               0.80              4.0  ...         35.7   \n",
       "8497        30.0               0.90              3.0  ...         35.6   \n",
       "8498        39.0               2.19              1.0  ...         33.7   \n",
       "8499        22.0               0.94              4.0  ...         36.3   \n",
       "\n",
       "      ventilated_apache  wbc_apache  apache_4a_hospital_death_prob   \n",
       "0                   1.0        7.20                           0.28  \\\n",
       "1                   1.0       21.20                           0.53   \n",
       "2                   1.0       19.20                           0.62   \n",
       "3                   0.0       10.40                           0.11   \n",
       "4                   1.0       16.50                           0.16   \n",
       "...                 ...         ...                            ...   \n",
       "8495                1.0        7.60                           0.06   \n",
       "8496                0.0       11.70                           0.05   \n",
       "8497                1.0       45.80                           0.25   \n",
       "8498                1.0        3.20                           0.79   \n",
       "8499                0.0        1.93                           0.17   \n",
       "\n",
       "      apache_4a_icu_death_prob  aids  cirrhosis  diabetes_mellitus  leukemia   \n",
       "0                         0.07   0.0        0.0                0.0       0.0  \\\n",
       "1                         0.48   0.0        0.0                0.0       0.0   \n",
       "2                         0.45   0.0        0.0                0.0       0.0   \n",
       "3                         0.02   0.0        0.0                1.0       0.0   \n",
       "4                         0.08   0.0        0.0                0.0       0.0   \n",
       "...                        ...   ...        ...                ...       ...   \n",
       "8495                      0.04   0.0        0.0                0.0       0.0   \n",
       "8496                      0.02   0.0        0.0                0.0       0.0   \n",
       "8497                      0.12   0.0        0.0                0.0       0.0   \n",
       "8498                      0.72   0.0        0.0                0.0       0.0   \n",
       "8499                      0.09   0.0        0.0                1.0       0.0   \n",
       "\n",
       "      hospital_death  \n",
       "0                  0  \n",
       "1                  0  \n",
       "2                  1  \n",
       "3                  1  \n",
       "4                  0  \n",
       "...              ...  \n",
       "8495               0  \n",
       "8496               0  \n",
       "8497               1  \n",
       "8498               1  \n",
       "8499               0  \n",
       "\n",
       "[8500 rows x 30 columns]"
      ],
      "text/html": [
       "<div>\n",
       "<style scoped>\n",
       "    .dataframe tbody tr th:only-of-type {\n",
       "        vertical-align: middle;\n",
       "    }\n",
       "\n",
       "    .dataframe tbody tr th {\n",
       "        vertical-align: top;\n",
       "    }\n",
       "\n",
       "    .dataframe thead th {\n",
       "        text-align: right;\n",
       "    }\n",
       "</style>\n",
       "<table border=\"1\" class=\"dataframe\">\n",
       "  <thead>\n",
       "    <tr style=\"text-align: right;\">\n",
       "      <th></th>\n",
       "      <th>age</th>\n",
       "      <th>bmi</th>\n",
       "      <th>gender</th>\n",
       "      <th>height</th>\n",
       "      <th>weight</th>\n",
       "      <th>pre_icu_los_days</th>\n",
       "      <th>arf_apache</th>\n",
       "      <th>bun_apache</th>\n",
       "      <th>creatinine_apache</th>\n",
       "      <th>gcs_eyes_apache</th>\n",
       "      <th>...</th>\n",
       "      <th>temp_apache</th>\n",
       "      <th>ventilated_apache</th>\n",
       "      <th>wbc_apache</th>\n",
       "      <th>apache_4a_hospital_death_prob</th>\n",
       "      <th>apache_4a_icu_death_prob</th>\n",
       "      <th>aids</th>\n",
       "      <th>cirrhosis</th>\n",
       "      <th>diabetes_mellitus</th>\n",
       "      <th>leukemia</th>\n",
       "      <th>hospital_death</th>\n",
       "    </tr>\n",
       "  </thead>\n",
       "  <tbody>\n",
       "    <tr>\n",
       "      <th>0</th>\n",
       "      <td>79.0</td>\n",
       "      <td>25.616497</td>\n",
       "      <td>1</td>\n",
       "      <td>168.0</td>\n",
       "      <td>72.3</td>\n",
       "      <td>0.305556</td>\n",
       "      <td>0.0</td>\n",
       "      <td>20.0</td>\n",
       "      <td>0.92</td>\n",
       "      <td>4.0</td>\n",
       "      <td>...</td>\n",
       "      <td>36.3</td>\n",
       "      <td>1.0</td>\n",
       "      <td>7.20</td>\n",
       "      <td>0.28</td>\n",
       "      <td>0.07</td>\n",
       "      <td>0.0</td>\n",
       "      <td>0.0</td>\n",
       "      <td>0.0</td>\n",
       "      <td>0.0</td>\n",
       "      <td>0</td>\n",
       "    </tr>\n",
       "    <tr>\n",
       "      <th>1</th>\n",
       "      <td>43.0</td>\n",
       "      <td>23.494409</td>\n",
       "      <td>0</td>\n",
       "      <td>171.0</td>\n",
       "      <td>68.7</td>\n",
       "      <td>0.011806</td>\n",
       "      <td>0.0</td>\n",
       "      <td>9.0</td>\n",
       "      <td>0.70</td>\n",
       "      <td>1.0</td>\n",
       "      <td>...</td>\n",
       "      <td>39.5</td>\n",
       "      <td>1.0</td>\n",
       "      <td>21.20</td>\n",
       "      <td>0.53</td>\n",
       "      <td>0.48</td>\n",
       "      <td>0.0</td>\n",
       "      <td>0.0</td>\n",
       "      <td>0.0</td>\n",
       "      <td>0.0</td>\n",
       "      <td>0</td>\n",
       "    </tr>\n",
       "    <tr>\n",
       "      <th>2</th>\n",
       "      <td>62.0</td>\n",
       "      <td>29.145882</td>\n",
       "      <td>0</td>\n",
       "      <td>182.9</td>\n",
       "      <td>97.5</td>\n",
       "      <td>0.006250</td>\n",
       "      <td>0.0</td>\n",
       "      <td>54.0</td>\n",
       "      <td>3.59</td>\n",
       "      <td>1.0</td>\n",
       "      <td>...</td>\n",
       "      <td>35.0</td>\n",
       "      <td>1.0</td>\n",
       "      <td>19.20</td>\n",
       "      <td>0.62</td>\n",
       "      <td>0.45</td>\n",
       "      <td>0.0</td>\n",
       "      <td>0.0</td>\n",
       "      <td>0.0</td>\n",
       "      <td>0.0</td>\n",
       "      <td>1</td>\n",
       "    </tr>\n",
       "    <tr>\n",
       "      <th>3</th>\n",
       "      <td>72.0</td>\n",
       "      <td>41.183318</td>\n",
       "      <td>1</td>\n",
       "      <td>170.2</td>\n",
       "      <td>119.3</td>\n",
       "      <td>1.945139</td>\n",
       "      <td>0.0</td>\n",
       "      <td>53.0</td>\n",
       "      <td>2.25</td>\n",
       "      <td>4.0</td>\n",
       "      <td>...</td>\n",
       "      <td>37.1</td>\n",
       "      <td>0.0</td>\n",
       "      <td>10.40</td>\n",
       "      <td>0.11</td>\n",
       "      <td>0.02</td>\n",
       "      <td>0.0</td>\n",
       "      <td>0.0</td>\n",
       "      <td>1.0</td>\n",
       "      <td>0.0</td>\n",
       "      <td>1</td>\n",
       "    </tr>\n",
       "    <tr>\n",
       "      <th>4</th>\n",
       "      <td>87.0</td>\n",
       "      <td>22.914211</td>\n",
       "      <td>0</td>\n",
       "      <td>170.1</td>\n",
       "      <td>66.3</td>\n",
       "      <td>0.085417</td>\n",
       "      <td>0.0</td>\n",
       "      <td>33.0</td>\n",
       "      <td>1.60</td>\n",
       "      <td>4.0</td>\n",
       "      <td>...</td>\n",
       "      <td>36.1</td>\n",
       "      <td>1.0</td>\n",
       "      <td>16.50</td>\n",
       "      <td>0.16</td>\n",
       "      <td>0.08</td>\n",
       "      <td>0.0</td>\n",
       "      <td>0.0</td>\n",
       "      <td>0.0</td>\n",
       "      <td>0.0</td>\n",
       "      <td>0</td>\n",
       "    </tr>\n",
       "    <tr>\n",
       "      <th>...</th>\n",
       "      <td>...</td>\n",
       "      <td>...</td>\n",
       "      <td>...</td>\n",
       "      <td>...</td>\n",
       "      <td>...</td>\n",
       "      <td>...</td>\n",
       "      <td>...</td>\n",
       "      <td>...</td>\n",
       "      <td>...</td>\n",
       "      <td>...</td>\n",
       "      <td>...</td>\n",
       "      <td>...</td>\n",
       "      <td>...</td>\n",
       "      <td>...</td>\n",
       "      <td>...</td>\n",
       "      <td>...</td>\n",
       "      <td>...</td>\n",
       "      <td>...</td>\n",
       "      <td>...</td>\n",
       "      <td>...</td>\n",
       "      <td>...</td>\n",
       "    </tr>\n",
       "    <tr>\n",
       "      <th>8495</th>\n",
       "      <td>55.0</td>\n",
       "      <td>33.201250</td>\n",
       "      <td>0</td>\n",
       "      <td>165.1</td>\n",
       "      <td>90.5</td>\n",
       "      <td>0.052083</td>\n",
       "      <td>0.0</td>\n",
       "      <td>15.0</td>\n",
       "      <td>1.09</td>\n",
       "      <td>4.0</td>\n",
       "      <td>...</td>\n",
       "      <td>37.7</td>\n",
       "      <td>1.0</td>\n",
       "      <td>7.60</td>\n",
       "      <td>0.06</td>\n",
       "      <td>0.04</td>\n",
       "      <td>0.0</td>\n",
       "      <td>0.0</td>\n",
       "      <td>0.0</td>\n",
       "      <td>0.0</td>\n",
       "      <td>0</td>\n",
       "    </tr>\n",
       "    <tr>\n",
       "      <th>8496</th>\n",
       "      <td>87.0</td>\n",
       "      <td>29.756001</td>\n",
       "      <td>1</td>\n",
       "      <td>142.0</td>\n",
       "      <td>60.0</td>\n",
       "      <td>0.014583</td>\n",
       "      <td>0.0</td>\n",
       "      <td>17.0</td>\n",
       "      <td>0.80</td>\n",
       "      <td>4.0</td>\n",
       "      <td>...</td>\n",
       "      <td>35.7</td>\n",
       "      <td>0.0</td>\n",
       "      <td>11.70</td>\n",
       "      <td>0.05</td>\n",
       "      <td>0.02</td>\n",
       "      <td>0.0</td>\n",
       "      <td>0.0</td>\n",
       "      <td>0.0</td>\n",
       "      <td>0.0</td>\n",
       "      <td>0</td>\n",
       "    </tr>\n",
       "    <tr>\n",
       "      <th>8497</th>\n",
       "      <td>80.0</td>\n",
       "      <td>17.630854</td>\n",
       "      <td>1</td>\n",
       "      <td>165.0</td>\n",
       "      <td>48.0</td>\n",
       "      <td>0.102778</td>\n",
       "      <td>0.0</td>\n",
       "      <td>30.0</td>\n",
       "      <td>0.90</td>\n",
       "      <td>3.0</td>\n",
       "      <td>...</td>\n",
       "      <td>35.6</td>\n",
       "      <td>1.0</td>\n",
       "      <td>45.80</td>\n",
       "      <td>0.25</td>\n",
       "      <td>0.12</td>\n",
       "      <td>0.0</td>\n",
       "      <td>0.0</td>\n",
       "      <td>0.0</td>\n",
       "      <td>0.0</td>\n",
       "      <td>1</td>\n",
       "    </tr>\n",
       "    <tr>\n",
       "      <th>8498</th>\n",
       "      <td>74.0</td>\n",
       "      <td>19.199423</td>\n",
       "      <td>0</td>\n",
       "      <td>175.3</td>\n",
       "      <td>59.0</td>\n",
       "      <td>0.460417</td>\n",
       "      <td>0.0</td>\n",
       "      <td>39.0</td>\n",
       "      <td>2.19</td>\n",
       "      <td>1.0</td>\n",
       "      <td>...</td>\n",
       "      <td>33.7</td>\n",
       "      <td>1.0</td>\n",
       "      <td>3.20</td>\n",
       "      <td>0.79</td>\n",
       "      <td>0.72</td>\n",
       "      <td>0.0</td>\n",
       "      <td>0.0</td>\n",
       "      <td>0.0</td>\n",
       "      <td>0.0</td>\n",
       "      <td>1</td>\n",
       "    </tr>\n",
       "    <tr>\n",
       "      <th>8499</th>\n",
       "      <td>77.0</td>\n",
       "      <td>29.412958</td>\n",
       "      <td>1</td>\n",
       "      <td>157.0</td>\n",
       "      <td>72.5</td>\n",
       "      <td>0.538889</td>\n",
       "      <td>0.0</td>\n",
       "      <td>22.0</td>\n",
       "      <td>0.94</td>\n",
       "      <td>4.0</td>\n",
       "      <td>...</td>\n",
       "      <td>36.3</td>\n",
       "      <td>0.0</td>\n",
       "      <td>1.93</td>\n",
       "      <td>0.17</td>\n",
       "      <td>0.09</td>\n",
       "      <td>0.0</td>\n",
       "      <td>0.0</td>\n",
       "      <td>1.0</td>\n",
       "      <td>0.0</td>\n",
       "      <td>0</td>\n",
       "    </tr>\n",
       "  </tbody>\n",
       "</table>\n",
       "<p>8500 rows × 30 columns</p>\n",
       "</div>"
      ]
     },
     "execution_count": 58,
     "metadata": {},
     "output_type": "execute_result"
    }
   ],
   "execution_count": 58
  },
  {
   "cell_type": "markdown",
   "source": [
    "Next, load **lab2_advanced_testing.csv**. You will make predictions on this testing data using the pre-trained random forest model."
   ],
   "metadata": {
    "id": "HjPSZoAuZ4Ry"
   }
  },
  {
   "cell_type": "code",
   "source": [
    "advanced_testing_data = pd.read_csv('lab2_advanced_testing.csv')\n",
    "advanced_testing_data"
   ],
   "metadata": {
    "id": "6k-HFk7tZ_eN",
    "ExecuteTime": {
     "end_time": "2024-10-11T15:14:36.283758Z",
     "start_time": "2024-10-11T15:14:36.252907Z"
    }
   },
   "outputs": [
    {
     "data": {
      "text/plain": [
       "     age        bmi  gender  height  weight  pre_icu_los_days  arf_apache   \n",
       "0     82  38.733847       1  158.23   96.82          0.232639         0.0  \\\n",
       "1     65  22.692476       0  173.67   69.40          0.121528         0.0   \n",
       "2     72  33.702285       0  177.47  105.70          0.143750         0.0   \n",
       "3     81  20.274075       0  171.74   61.10          0.664583         0.0   \n",
       "4     41  29.027749       1  175.75   90.00          0.004167         0.0   \n",
       "..   ...        ...     ...     ...     ...               ...         ...   \n",
       "895   61  22.840598       0  174.96   71.20          0.009722         0.0   \n",
       "896   74  28.843833       1  169.31   82.90          0.389583         0.0   \n",
       "897   68  22.744572       1  170.02   67.05          2.172917         0.0   \n",
       "898   55  25.356784       0  169.90   73.90          4.186111         0.0   \n",
       "899   62  16.720580       1  165.40   46.00          0.157639         0.0   \n",
       "\n",
       "     bun_apache  creatinine_apache  gcs_eyes_apache  ...  sodium_apache   \n",
       "0            50               3.32              1.0  ...            135  \\\n",
       "1            33               1.40              1.0  ...            133   \n",
       "2            17               1.71              1.0  ...            143   \n",
       "3            35               2.09              3.0  ...            136   \n",
       "4             3               0.41              1.0  ...            149   \n",
       "..          ...                ...              ...  ...            ...   \n",
       "895          22               0.90              4.0  ...            134   \n",
       "896          12               0.74              3.0  ...            144   \n",
       "897          36               1.87              3.0  ...            137   \n",
       "898          12               1.38              4.0  ...            139   \n",
       "899          11               2.80              4.0  ...            135   \n",
       "\n",
       "     temp_apache  ventilated_apache  wbc_apache   \n",
       "0           33.0                1.0        14.8  \\\n",
       "1           32.1                1.0        12.5   \n",
       "2           33.9                1.0        17.8   \n",
       "3           36.4                1.0         9.0   \n",
       "4           32.3                1.0        24.0   \n",
       "..           ...                ...         ...   \n",
       "895         36.5                0.0         5.2   \n",
       "896         36.4                1.0         9.9   \n",
       "897         35.8                1.0        29.7   \n",
       "898         35.9                1.0        15.3   \n",
       "899         36.2                1.0         5.8   \n",
       "\n",
       "     apache_4a_hospital_death_prob  apache_4a_icu_death_prob  aids  cirrhosis   \n",
       "0                             0.84                      0.71   0.0        0.0  \\\n",
       "1                             0.70                      0.54   0.0        0.0   \n",
       "2                             0.49                      0.29   0.0        0.0   \n",
       "3                             0.40                      0.31   0.0        0.0   \n",
       "4                             0.71                      0.64   0.0        0.0   \n",
       "..                             ...                       ...   ...        ...   \n",
       "895                           0.04                      0.03   0.0        0.0   \n",
       "896                           0.02                      0.00   0.0        0.0   \n",
       "897                           0.16                      0.11   0.0        0.0   \n",
       "898                           0.01                     -0.02   0.0        0.0   \n",
       "899                           0.08                      0.04   0.0        0.0   \n",
       "\n",
       "     diabetes_mellitus  leukemia  \n",
       "0                  0.0       0.0  \n",
       "1                  1.0       0.0  \n",
       "2                  0.0       0.0  \n",
       "3                  0.0       0.0  \n",
       "4                  0.0       0.0  \n",
       "..                 ...       ...  \n",
       "895                0.0       0.0  \n",
       "896                0.0       0.0  \n",
       "897                1.0       0.0  \n",
       "898                0.0       0.0  \n",
       "899                0.0       0.0  \n",
       "\n",
       "[900 rows x 29 columns]"
      ],
      "text/html": [
       "<div>\n",
       "<style scoped>\n",
       "    .dataframe tbody tr th:only-of-type {\n",
       "        vertical-align: middle;\n",
       "    }\n",
       "\n",
       "    .dataframe tbody tr th {\n",
       "        vertical-align: top;\n",
       "    }\n",
       "\n",
       "    .dataframe thead th {\n",
       "        text-align: right;\n",
       "    }\n",
       "</style>\n",
       "<table border=\"1\" class=\"dataframe\">\n",
       "  <thead>\n",
       "    <tr style=\"text-align: right;\">\n",
       "      <th></th>\n",
       "      <th>age</th>\n",
       "      <th>bmi</th>\n",
       "      <th>gender</th>\n",
       "      <th>height</th>\n",
       "      <th>weight</th>\n",
       "      <th>pre_icu_los_days</th>\n",
       "      <th>arf_apache</th>\n",
       "      <th>bun_apache</th>\n",
       "      <th>creatinine_apache</th>\n",
       "      <th>gcs_eyes_apache</th>\n",
       "      <th>...</th>\n",
       "      <th>sodium_apache</th>\n",
       "      <th>temp_apache</th>\n",
       "      <th>ventilated_apache</th>\n",
       "      <th>wbc_apache</th>\n",
       "      <th>apache_4a_hospital_death_prob</th>\n",
       "      <th>apache_4a_icu_death_prob</th>\n",
       "      <th>aids</th>\n",
       "      <th>cirrhosis</th>\n",
       "      <th>diabetes_mellitus</th>\n",
       "      <th>leukemia</th>\n",
       "    </tr>\n",
       "  </thead>\n",
       "  <tbody>\n",
       "    <tr>\n",
       "      <th>0</th>\n",
       "      <td>82</td>\n",
       "      <td>38.733847</td>\n",
       "      <td>1</td>\n",
       "      <td>158.23</td>\n",
       "      <td>96.82</td>\n",
       "      <td>0.232639</td>\n",
       "      <td>0.0</td>\n",
       "      <td>50</td>\n",
       "      <td>3.32</td>\n",
       "      <td>1.0</td>\n",
       "      <td>...</td>\n",
       "      <td>135</td>\n",
       "      <td>33.0</td>\n",
       "      <td>1.0</td>\n",
       "      <td>14.8</td>\n",
       "      <td>0.84</td>\n",
       "      <td>0.71</td>\n",
       "      <td>0.0</td>\n",
       "      <td>0.0</td>\n",
       "      <td>0.0</td>\n",
       "      <td>0.0</td>\n",
       "    </tr>\n",
       "    <tr>\n",
       "      <th>1</th>\n",
       "      <td>65</td>\n",
       "      <td>22.692476</td>\n",
       "      <td>0</td>\n",
       "      <td>173.67</td>\n",
       "      <td>69.40</td>\n",
       "      <td>0.121528</td>\n",
       "      <td>0.0</td>\n",
       "      <td>33</td>\n",
       "      <td>1.40</td>\n",
       "      <td>1.0</td>\n",
       "      <td>...</td>\n",
       "      <td>133</td>\n",
       "      <td>32.1</td>\n",
       "      <td>1.0</td>\n",
       "      <td>12.5</td>\n",
       "      <td>0.70</td>\n",
       "      <td>0.54</td>\n",
       "      <td>0.0</td>\n",
       "      <td>0.0</td>\n",
       "      <td>1.0</td>\n",
       "      <td>0.0</td>\n",
       "    </tr>\n",
       "    <tr>\n",
       "      <th>2</th>\n",
       "      <td>72</td>\n",
       "      <td>33.702285</td>\n",
       "      <td>0</td>\n",
       "      <td>177.47</td>\n",
       "      <td>105.70</td>\n",
       "      <td>0.143750</td>\n",
       "      <td>0.0</td>\n",
       "      <td>17</td>\n",
       "      <td>1.71</td>\n",
       "      <td>1.0</td>\n",
       "      <td>...</td>\n",
       "      <td>143</td>\n",
       "      <td>33.9</td>\n",
       "      <td>1.0</td>\n",
       "      <td>17.8</td>\n",
       "      <td>0.49</td>\n",
       "      <td>0.29</td>\n",
       "      <td>0.0</td>\n",
       "      <td>0.0</td>\n",
       "      <td>0.0</td>\n",
       "      <td>0.0</td>\n",
       "    </tr>\n",
       "    <tr>\n",
       "      <th>3</th>\n",
       "      <td>81</td>\n",
       "      <td>20.274075</td>\n",
       "      <td>0</td>\n",
       "      <td>171.74</td>\n",
       "      <td>61.10</td>\n",
       "      <td>0.664583</td>\n",
       "      <td>0.0</td>\n",
       "      <td>35</td>\n",
       "      <td>2.09</td>\n",
       "      <td>3.0</td>\n",
       "      <td>...</td>\n",
       "      <td>136</td>\n",
       "      <td>36.4</td>\n",
       "      <td>1.0</td>\n",
       "      <td>9.0</td>\n",
       "      <td>0.40</td>\n",
       "      <td>0.31</td>\n",
       "      <td>0.0</td>\n",
       "      <td>0.0</td>\n",
       "      <td>0.0</td>\n",
       "      <td>0.0</td>\n",
       "    </tr>\n",
       "    <tr>\n",
       "      <th>4</th>\n",
       "      <td>41</td>\n",
       "      <td>29.027749</td>\n",
       "      <td>1</td>\n",
       "      <td>175.75</td>\n",
       "      <td>90.00</td>\n",
       "      <td>0.004167</td>\n",
       "      <td>0.0</td>\n",
       "      <td>3</td>\n",
       "      <td>0.41</td>\n",
       "      <td>1.0</td>\n",
       "      <td>...</td>\n",
       "      <td>149</td>\n",
       "      <td>32.3</td>\n",
       "      <td>1.0</td>\n",
       "      <td>24.0</td>\n",
       "      <td>0.71</td>\n",
       "      <td>0.64</td>\n",
       "      <td>0.0</td>\n",
       "      <td>0.0</td>\n",
       "      <td>0.0</td>\n",
       "      <td>0.0</td>\n",
       "    </tr>\n",
       "    <tr>\n",
       "      <th>...</th>\n",
       "      <td>...</td>\n",
       "      <td>...</td>\n",
       "      <td>...</td>\n",
       "      <td>...</td>\n",
       "      <td>...</td>\n",
       "      <td>...</td>\n",
       "      <td>...</td>\n",
       "      <td>...</td>\n",
       "      <td>...</td>\n",
       "      <td>...</td>\n",
       "      <td>...</td>\n",
       "      <td>...</td>\n",
       "      <td>...</td>\n",
       "      <td>...</td>\n",
       "      <td>...</td>\n",
       "      <td>...</td>\n",
       "      <td>...</td>\n",
       "      <td>...</td>\n",
       "      <td>...</td>\n",
       "      <td>...</td>\n",
       "      <td>...</td>\n",
       "    </tr>\n",
       "    <tr>\n",
       "      <th>895</th>\n",
       "      <td>61</td>\n",
       "      <td>22.840598</td>\n",
       "      <td>0</td>\n",
       "      <td>174.96</td>\n",
       "      <td>71.20</td>\n",
       "      <td>0.009722</td>\n",
       "      <td>0.0</td>\n",
       "      <td>22</td>\n",
       "      <td>0.90</td>\n",
       "      <td>4.0</td>\n",
       "      <td>...</td>\n",
       "      <td>134</td>\n",
       "      <td>36.5</td>\n",
       "      <td>0.0</td>\n",
       "      <td>5.2</td>\n",
       "      <td>0.04</td>\n",
       "      <td>0.03</td>\n",
       "      <td>0.0</td>\n",
       "      <td>0.0</td>\n",
       "      <td>0.0</td>\n",
       "      <td>0.0</td>\n",
       "    </tr>\n",
       "    <tr>\n",
       "      <th>896</th>\n",
       "      <td>74</td>\n",
       "      <td>28.843833</td>\n",
       "      <td>1</td>\n",
       "      <td>169.31</td>\n",
       "      <td>82.90</td>\n",
       "      <td>0.389583</td>\n",
       "      <td>0.0</td>\n",
       "      <td>12</td>\n",
       "      <td>0.74</td>\n",
       "      <td>3.0</td>\n",
       "      <td>...</td>\n",
       "      <td>144</td>\n",
       "      <td>36.4</td>\n",
       "      <td>1.0</td>\n",
       "      <td>9.9</td>\n",
       "      <td>0.02</td>\n",
       "      <td>0.00</td>\n",
       "      <td>0.0</td>\n",
       "      <td>0.0</td>\n",
       "      <td>0.0</td>\n",
       "      <td>0.0</td>\n",
       "    </tr>\n",
       "    <tr>\n",
       "      <th>897</th>\n",
       "      <td>68</td>\n",
       "      <td>22.744572</td>\n",
       "      <td>1</td>\n",
       "      <td>170.02</td>\n",
       "      <td>67.05</td>\n",
       "      <td>2.172917</td>\n",
       "      <td>0.0</td>\n",
       "      <td>36</td>\n",
       "      <td>1.87</td>\n",
       "      <td>3.0</td>\n",
       "      <td>...</td>\n",
       "      <td>137</td>\n",
       "      <td>35.8</td>\n",
       "      <td>1.0</td>\n",
       "      <td>29.7</td>\n",
       "      <td>0.16</td>\n",
       "      <td>0.11</td>\n",
       "      <td>0.0</td>\n",
       "      <td>0.0</td>\n",
       "      <td>1.0</td>\n",
       "      <td>0.0</td>\n",
       "    </tr>\n",
       "    <tr>\n",
       "      <th>898</th>\n",
       "      <td>55</td>\n",
       "      <td>25.356784</td>\n",
       "      <td>0</td>\n",
       "      <td>169.90</td>\n",
       "      <td>73.90</td>\n",
       "      <td>4.186111</td>\n",
       "      <td>0.0</td>\n",
       "      <td>12</td>\n",
       "      <td>1.38</td>\n",
       "      <td>4.0</td>\n",
       "      <td>...</td>\n",
       "      <td>139</td>\n",
       "      <td>35.9</td>\n",
       "      <td>1.0</td>\n",
       "      <td>15.3</td>\n",
       "      <td>0.01</td>\n",
       "      <td>-0.02</td>\n",
       "      <td>0.0</td>\n",
       "      <td>0.0</td>\n",
       "      <td>0.0</td>\n",
       "      <td>0.0</td>\n",
       "    </tr>\n",
       "    <tr>\n",
       "      <th>899</th>\n",
       "      <td>62</td>\n",
       "      <td>16.720580</td>\n",
       "      <td>1</td>\n",
       "      <td>165.40</td>\n",
       "      <td>46.00</td>\n",
       "      <td>0.157639</td>\n",
       "      <td>0.0</td>\n",
       "      <td>11</td>\n",
       "      <td>2.80</td>\n",
       "      <td>4.0</td>\n",
       "      <td>...</td>\n",
       "      <td>135</td>\n",
       "      <td>36.2</td>\n",
       "      <td>1.0</td>\n",
       "      <td>5.8</td>\n",
       "      <td>0.08</td>\n",
       "      <td>0.04</td>\n",
       "      <td>0.0</td>\n",
       "      <td>0.0</td>\n",
       "      <td>0.0</td>\n",
       "      <td>0.0</td>\n",
       "    </tr>\n",
       "  </tbody>\n",
       "</table>\n",
       "<p>900 rows × 29 columns</p>\n",
       "</div>"
      ]
     },
     "execution_count": 59,
     "metadata": {},
     "output_type": "execute_result"
    }
   ],
   "execution_count": 59
  },
  {
   "cell_type": "markdown",
   "source": [
    "### Step 2: Split training data into training and validation set (Optional)\n",
    "> You can split the training data into training and validation set, this is up to you."
   ],
   "metadata": {
    "id": "OMQdTAvOaIh6"
   }
  },
  {
   "cell_type": "code",
   "source": [
    "### START CODE HERE ###\n",
    "# split data at ratio 8:2\n",
    "idx = int(advanced_training_data.shape[0] * 0.8)\n",
    "training_data = advanced_training_data\n",
    "validation_data = advanced_training_data.iloc[idx:]\n",
    "\n",
    "x_validation = validation_data.drop(['hospital_death'], axis=1)\n",
    "y_validation = validation_data[['hospital_death']]\n",
    "### END CODE HERE ###"
   ],
   "metadata": {
    "id": "iMan7jJ-aKX9",
    "ExecuteTime": {
     "end_time": "2024-10-11T15:14:36.378583Z",
     "start_time": "2024-10-11T15:14:36.373012Z"
    }
   },
   "outputs": [],
   "execution_count": 60
  },
  {
   "cell_type": "markdown",
   "source": [
    "### Step 3: Build a Random Forest\n",
    "\n",
    "Define the attributions of the random forest\n",
    "> * You **can** modify the values of these attributes in advanced part\n",
    "> * Each tree can have different attribute values\n",
    "> * Must use function *build_tree()* to build a random forest model\n",
    "> * Must print out the *selected_datas* and *selected_features*\n"
   ],
   "metadata": {
    "id": "xY8HvRY4af3u"
   }
  },
  {
   "cell_type": "code",
   "source": [
    "### START CODE HERE ###\n",
    "# Define the attributes\n",
    "max_depth = 2\n",
    "depth = 0\n",
    "min_samples_split = 2\n",
    "\n",
    "# total number of trees in a random forest\n",
    "n_trees = 500\n",
    "\n",
    "# number of features to train a decision tree\n",
    "n_features = int(sqrt(advanced_training_data.shape[1] - 1))\n",
    "\n",
    "# the ratio to select the number of instances\n",
    "sample_size = 0.8\n",
    "n_samples = int(training_data.shape[0] * sample_size)\n",
    "### END CODE HERE ###"
   ],
   "metadata": {
    "id": "xK0iM7goa2pj",
    "ExecuteTime": {
     "end_time": "2024-10-11T15:14:36.468010Z",
     "start_time": "2024-10-11T15:14:36.463419Z"
    }
   },
   "outputs": [],
   "execution_count": 61
  },
  {
   "cell_type": "code",
   "source": [
    "def build_forest(data, n_trees, n_features, n_samples):\n",
    "    \"\"\"\n",
    "    This function will build a random forest.\n",
    "    args:\n",
    "    * data: all data that can be used to train a random forest\n",
    "    * n_trees: total number of tree\n",
    "    * n_features: number of features\n",
    "    * n_samples: number of instances\n",
    "    return:\n",
    "    * forest: a random forest with 'n_trees' of decision tree\n",
    "    \"\"\"\n",
    "    ### START CODE HERE ###\n",
    "    data_len = data.shape[0]\n",
    "    feature_list = list(data.columns[:-1])\n",
    "    forest = []\n",
    "    ### END CODE HERE ###\n",
    "\n",
    "    # Create 'n_trees' number of trees and store each into the 'forest' list\n",
    "    for i in range(n_trees):\n",
    "\n",
    "        ### START CODE HERE ###\n",
    "        # Select 'n_samples' number of samples and 'n_features' number of features\n",
    "        # (you can select randomly or use any other techniques)\n",
    "        \n",
    "        # randomly select index of data and features\n",
    "        selected_features = np.random.choice(feature_list, n_features, replace=False)\n",
    "        selected_datas = data.loc[np.random.choice(data.index, size=n_samples, replace=False)]\n",
    "\n",
    "        ### END CODE HERE ###\n",
    "\n",
    "        # print(f\"selected_datas = {selected_datas}\")\n",
    "        print(f\"selected_features = {selected_features}\")\n",
    "\n",
    "        ### START CODE HERE ###\n",
    "        # Store the rows in 'selected_datas' from 'data' into a new DataFrame\n",
    "        tree_data = pd.DataFrame(selected_datas, columns=data.columns)\n",
    "\n",
    "        # Filter the DataFrame for specific 'selected_features' (columns)\n",
    "        tree_data = tree_data[selected_features.tolist() + ['hospital_death']]\n",
    "        # print(tree_data)\n",
    "\n",
    "        ### END CODE HERE ###\n",
    "\n",
    "        # Then use the new data and 'build_tree' function to build a tree\n",
    "        tree = build_tree(tree_data, max_depth, min_samples_split, depth)\n",
    "        print(tree)\n",
    "\n",
    "        # Save your tree\n",
    "        forest.append(tree)\n",
    "\n",
    "    return forest"
   ],
   "metadata": {
    "id": "i1I7wbpWa_N1",
    "ExecuteTime": {
     "end_time": "2024-10-11T15:14:36.593484Z",
     "start_time": "2024-10-11T15:14:36.581599Z"
    }
   },
   "outputs": [],
   "execution_count": 62
  },
  {
   "metadata": {
    "ExecuteTime": {
     "end_time": "2024-10-11T15:14:36.654743Z",
     "start_time": "2024-10-11T15:14:36.650867Z"
    }
   },
   "cell_type": "code",
   "source": [
    "predictions_path = 'predictions.csv'\n",
    "forest_path = f'{n_features}_{max_depth}_{n_trees}_full.pkl'"
   ],
   "outputs": [],
   "execution_count": 63
  },
  {
   "metadata": {
    "ExecuteTime": {
     "end_time": "2024-10-11T15:14:36.725160Z",
     "start_time": "2024-10-11T15:14:36.720663Z"
    }
   },
   "cell_type": "code",
   "source": [
    "# try multitasking\n",
    "from joblib import Parallel, delayed\n",
    "\n",
    "def build_single_tree(data, n_features, n_samples):\n",
    "    # randomly select index of data and features\n",
    "    feature_list = data.columns[:-1]\n",
    "    selected_features = np.random.choice(feature_list, n_features, replace=False)\n",
    "    selected_datas = data.loc[np.random.choice(data.index, size=n_samples, replace=False)]\n",
    "\n",
    "    ### END CODE HERE ###\n",
    "\n",
    "    # print(f\"selected_datas = {selected_datas}\")\n",
    "    print(f\"selected_features = {selected_features}\")\n",
    "\n",
    "    ### START CODE HERE ###\n",
    "    # Store the rows in 'selected_datas' from 'data' into a new DataFrame\n",
    "    tree_data = pd.DataFrame(selected_datas, columns=data.columns)\n",
    "\n",
    "    # Filter the DataFrame for specific 'selected_features' (columns)\n",
    "    tree_data = tree_data[selected_features.tolist() + ['hospital_death']]\n",
    "    \n",
    "    tree = build_tree(tree_data, max_depth, min_samples_split, depth)\n",
    "    return tree\n",
    "\n",
    "# forest = Parallel(n_jobs=-1)(delayed(build_single_tree)(training_data, n_features, n_samples) for _ in range(n_trees))"
   ],
   "outputs": [],
   "execution_count": 64
  },
  {
   "metadata": {
    "jupyter": {
     "is_executing": true
    },
    "ExecuteTime": {
     "start_time": "2024-10-11T15:14:36.781865Z"
    }
   },
   "cell_type": "code",
   "source": [
    "import pickle\n",
    "try: \n",
    "    with open(forest_path, 'rb') as f:\n",
    "        forest = pickle.load(f)\n",
    "except:\n",
    "    forest = Parallel(n_jobs=-1)(delayed(build_single_tree)(training_data, n_features, n_samples) for _ in range(n_trees))\n",
    "    with open(forest_path, 'wb') as f:\n",
    "        pickle.dump(forest, f)"
   ],
   "outputs": [],
   "execution_count": null
  },
  {
   "cell_type": "code",
   "source": "# forest = build_forest(training_data, n_trees, n_features, n_samples)",
   "metadata": {
    "id": "WvV8U7C2bIqO",
    "ExecuteTime": {
     "end_time": "2024-10-11T15:00:51.039456Z",
     "start_time": "2024-10-11T15:00:51.035232Z"
    }
   },
   "outputs": [],
   "execution_count": 30
  },
  {
   "cell_type": "markdown",
   "source": [
    "### Step 4: Make predictions with the random forest"
   ],
   "metadata": {
    "id": "CD0v4Af4bM_T"
   }
  },
  {
   "cell_type": "code",
   "source": [
    "def make_prediction_forest(forest, data):\n",
    "    \"\"\"\n",
    "    This function will use the pre-trained random forest to make the predictions\n",
    "    args:\n",
    "    * forest: the random forest\n",
    "    * data: the data used to predict\n",
    "    return:\n",
    "    * y_prediction: the predicted results\n",
    "    \"\"\"\n",
    "    y_prediction = []\n",
    "    predictions = []\n",
    "\n",
    "    ### START CODE HERE ###\n",
    "    # Loop through each tree in the forest\n",
    "    predictions = [make_prediction(tree, data) for tree in forest]\n",
    "    \n",
    "    # Here, each tree has made its predictions.\n",
    "    # We can use majority vote in which the final prediction is determined by the mode (most frequent prediction) across all the trees.\n",
    "    # Feel free to use any other method to determine the final prediction\n",
    "\n",
    "    # Loop through each column of 'predictions'\n",
    "    for i in range(len(predictions[0])):\n",
    "        # For a specific column, find out each tree's prediction\n",
    "        column_predictions = list(zip(*predictions))[i]\n",
    "        # Then, use a method to determine the final prediction for this column\n",
    "        # append the final prediction to y_prediction\n",
    "        if column_predictions.count(1) > column_predictions.count(0):\n",
    "            y_prediction.append(1)\n",
    "        else:\n",
    "            y_prediction.append(0)\n",
    "    ### END CODE HERE ###\n",
    "\n",
    "    return y_prediction"
   ],
   "metadata": {
    "id": "45zA7JFVbRLr",
    "ExecuteTime": {
     "end_time": "2024-10-11T15:00:51.117345Z",
     "start_time": "2024-10-11T15:00:51.110710Z"
    }
   },
   "outputs": [],
   "execution_count": 31
  },
  {
   "cell_type": "markdown",
   "source": [
    "Validation (Optional)\n",
    "> If you split the data into training and validation sets in step 2, you can assess the accuracy of the forest here."
   ],
   "metadata": {
    "id": "zXED6E837NRk"
   }
  },
  {
   "cell_type": "code",
   "source": [
    "### START CODE HERE ###\n",
    "pred_validation = make_prediction_forest(forest, x_validation)\n",
    "score = calculate_score(y_validation, pred_validation)\n",
    "print(score)\n",
    "\n",
    "# store score and forest csv\n",
    "store_df = pd.DataFrame({'score': [score], 'forest': [forest_path]})\n",
    "store_df.to_csv(predictions_path, mode='a', header = False, index = False)\n",
    "\n",
    "### END CODE HERE ###"
   ],
   "metadata": {
    "id": "CsC39J9P7h-j",
    "ExecuteTime": {
     "end_time": "2024-10-11T15:01:55.042977Z",
     "start_time": "2024-10-11T15:00:51.192995Z"
    }
   },
   "outputs": [
    {
     "name": "stdout",
     "output_type": "stream",
     "text": [
      "0.7501711156741958\n"
     ]
    }
   ],
   "execution_count": 32
  },
  {
   "cell_type": "markdown",
   "source": [
    "After you have completed fine-tuning and validating the forest, you can proceed to make predictions on the test data."
   ],
   "metadata": {
    "id": "vqp8xzDJTV6S"
   }
  },
  {
   "cell_type": "code",
   "source": [
    "y_pred_test = make_prediction_forest(forest, advanced_testing_data)"
   ],
   "metadata": {
    "id": "atRpa9KoPgNP",
    "ExecuteTime": {
     "end_time": "2024-10-11T15:02:18.799886Z",
     "start_time": "2024-10-11T15:01:55.110447Z"
    }
   },
   "outputs": [],
   "execution_count": 33
  },
  {
   "cell_type": "markdown",
   "source": [
    "### Step 5: Write the Output File\n",
    "Save your predictions from the **random forest** in a csv file, named as **lab2_advanced.csv**\n",
    "> Note: Please do not touch the code in this step, we have made sure this outputs the correct file format."
   ],
   "metadata": {
    "id": "MfLRewfzbjiZ"
   }
  },
  {
   "cell_type": "code",
   "source": [
    "advanced = []\n",
    "for i in range(len(y_pred_test)):\n",
    "    advanced.append(y_pred_test[i])"
   ],
   "metadata": {
    "id": "_H6MNjNmbst1",
    "ExecuteTime": {
     "end_time": "2024-10-11T15:02:18.862647Z",
     "start_time": "2024-10-11T15:02:18.858135Z"
    }
   },
   "outputs": [],
   "execution_count": 34
  },
  {
   "cell_type": "code",
   "source": [
    "advanced_path = 'lab2_advanced.csv'\n",
    "\n",
    "advanced_df = pd.DataFrame({'Id': range(len(advanced)), 'hospital_death': advanced})\n",
    "advanced_df.set_index('Id', inplace=True)\n",
    "advanced_df"
   ],
   "metadata": {
    "id": "7DHteTW7bvxz",
    "ExecuteTime": {
     "end_time": "2024-10-11T15:02:18.935780Z",
     "start_time": "2024-10-11T15:02:18.926174Z"
    }
   },
   "outputs": [
    {
     "data": {
      "text/plain": [
       "     hospital_death\n",
       "Id                 \n",
       "0                 1\n",
       "1                 1\n",
       "2                 1\n",
       "3                 1\n",
       "4                 1\n",
       "..              ...\n",
       "895               0\n",
       "896               0\n",
       "897               1\n",
       "898               0\n",
       "899               0\n",
       "\n",
       "[900 rows x 1 columns]"
      ],
      "text/html": [
       "<div>\n",
       "<style scoped>\n",
       "    .dataframe tbody tr th:only-of-type {\n",
       "        vertical-align: middle;\n",
       "    }\n",
       "\n",
       "    .dataframe tbody tr th {\n",
       "        vertical-align: top;\n",
       "    }\n",
       "\n",
       "    .dataframe thead th {\n",
       "        text-align: right;\n",
       "    }\n",
       "</style>\n",
       "<table border=\"1\" class=\"dataframe\">\n",
       "  <thead>\n",
       "    <tr style=\"text-align: right;\">\n",
       "      <th></th>\n",
       "      <th>hospital_death</th>\n",
       "    </tr>\n",
       "    <tr>\n",
       "      <th>Id</th>\n",
       "      <th></th>\n",
       "    </tr>\n",
       "  </thead>\n",
       "  <tbody>\n",
       "    <tr>\n",
       "      <th>0</th>\n",
       "      <td>1</td>\n",
       "    </tr>\n",
       "    <tr>\n",
       "      <th>1</th>\n",
       "      <td>1</td>\n",
       "    </tr>\n",
       "    <tr>\n",
       "      <th>2</th>\n",
       "      <td>1</td>\n",
       "    </tr>\n",
       "    <tr>\n",
       "      <th>3</th>\n",
       "      <td>1</td>\n",
       "    </tr>\n",
       "    <tr>\n",
       "      <th>4</th>\n",
       "      <td>1</td>\n",
       "    </tr>\n",
       "    <tr>\n",
       "      <th>...</th>\n",
       "      <td>...</td>\n",
       "    </tr>\n",
       "    <tr>\n",
       "      <th>895</th>\n",
       "      <td>0</td>\n",
       "    </tr>\n",
       "    <tr>\n",
       "      <th>896</th>\n",
       "      <td>0</td>\n",
       "    </tr>\n",
       "    <tr>\n",
       "      <th>897</th>\n",
       "      <td>1</td>\n",
       "    </tr>\n",
       "    <tr>\n",
       "      <th>898</th>\n",
       "      <td>0</td>\n",
       "    </tr>\n",
       "    <tr>\n",
       "      <th>899</th>\n",
       "      <td>0</td>\n",
       "    </tr>\n",
       "  </tbody>\n",
       "</table>\n",
       "<p>900 rows × 1 columns</p>\n",
       "</div>"
      ]
     },
     "execution_count": 35,
     "metadata": {},
     "output_type": "execute_result"
    }
   ],
   "execution_count": 35
  },
  {
   "cell_type": "code",
   "source": [
    "advanced_df.to_csv(advanced_path, header = True, index = True)"
   ],
   "metadata": {
    "id": "AZWdWt5fGPe9",
    "ExecuteTime": {
     "end_time": "2024-10-11T15:02:19.046674Z",
     "start_time": "2024-10-11T15:02:19.041359Z"
    }
   },
   "outputs": [],
   "execution_count": 36
  },
  {
   "metadata": {
    "ExecuteTime": {
     "end_time": "2024-10-11T15:02:19.086398Z",
     "start_time": "2024-10-11T15:02:19.083637Z"
    }
   },
   "cell_type": "code",
   "source": "",
   "outputs": [],
   "execution_count": null
  }
 ]
}
